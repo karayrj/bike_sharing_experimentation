{
 "cells": [
  {
   "cell_type": "markdown",
   "metadata": {},
   "source": [
    "# Bike Sharing Experimentation and Causal Analysis\n",
    "\n",
    "Kara Jia  3031907464"
   ]
  },
  {
   "cell_type": "code",
   "execution_count": 1,
   "metadata": {},
   "outputs": [],
   "source": [
    "import pandas as pd \n",
    "import numpy as np\n",
    "import numpy as np\n",
    "import matplotlib.pyplot as plt\n",
    "import datetime as dt\n",
    "import seaborn as sns\n",
    "from scipy import stats\n",
    "from tqdm import tqdm_notebook as tqdm\n",
    " \n",
    "\n",
    "import warnings\n",
    "warnings.filterwarnings('ignore')\n",
    "%matplotlib inline\n",
    "\n",
    "from IPython.display import Markdown, display"
   ]
  },
  {
   "cell_type": "code",
   "execution_count": 5,
   "metadata": {},
   "outputs": [],
   "source": [
    "chicago = pd.read_csv(\"/Users/kyjurou/Documents/Courses/bikeshare_proj/bikeshare/chicago.csv\")\n",
    "ny = pd.read_csv(\"/Users/kyjurou/Documents/Courses/bikeshare_proj/bikeshare/ny.csv\")  \n",
    "day = pd.read_csv(\"/Users/kyjurou/Documents/Courses/bikeshare_proj/bikeshare/day.csv\")\n",
    "dc = pd.read_csv(\"/Users/kyjurou/Documents/Courses/bikeshare_proj/bikeshare/dc.csv\")"
   ]
  },
  {
   "cell_type": "code",
   "execution_count": 6,
   "metadata": {},
   "outputs": [
    {
     "data": {
      "text/html": [
       "<div>\n",
       "<style scoped>\n",
       "    .dataframe tbody tr th:only-of-type {\n",
       "        vertical-align: middle;\n",
       "    }\n",
       "\n",
       "    .dataframe tbody tr th {\n",
       "        vertical-align: top;\n",
       "    }\n",
       "\n",
       "    .dataframe thead th {\n",
       "        text-align: right;\n",
       "    }\n",
       "</style>\n",
       "<table border=\"1\" class=\"dataframe\">\n",
       "  <thead>\n",
       "    <tr style=\"text-align: right;\">\n",
       "      <th></th>\n",
       "      <th>trip_id</th>\n",
       "      <th>starttime</th>\n",
       "      <th>stoptime</th>\n",
       "      <th>bikeid</th>\n",
       "      <th>tripduration</th>\n",
       "      <th>from_station_id</th>\n",
       "      <th>from_station_name</th>\n",
       "      <th>to_station_id</th>\n",
       "      <th>to_station_name</th>\n",
       "      <th>usertype</th>\n",
       "      <th>gender</th>\n",
       "      <th>birthyear</th>\n",
       "    </tr>\n",
       "  </thead>\n",
       "  <tbody>\n",
       "    <tr>\n",
       "      <th>0</th>\n",
       "      <td>9080545</td>\n",
       "      <td>3/31/2016 23:30</td>\n",
       "      <td>3/31/2016 23:46</td>\n",
       "      <td>2295</td>\n",
       "      <td>926</td>\n",
       "      <td>156</td>\n",
       "      <td>Clark St &amp; Wellington Ave</td>\n",
       "      <td>166</td>\n",
       "      <td>Ashland Ave &amp; Wrightwood Ave</td>\n",
       "      <td>Subscriber</td>\n",
       "      <td>Male</td>\n",
       "      <td>1990.0</td>\n",
       "    </tr>\n",
       "    <tr>\n",
       "      <th>1</th>\n",
       "      <td>9080521</td>\n",
       "      <td>3/31/2016 22:59</td>\n",
       "      <td>3/31/2016 23:02</td>\n",
       "      <td>3439</td>\n",
       "      <td>198</td>\n",
       "      <td>259</td>\n",
       "      <td>California Ave &amp; Francis Pl</td>\n",
       "      <td>276</td>\n",
       "      <td>California Ave &amp; North Ave</td>\n",
       "      <td>Subscriber</td>\n",
       "      <td>Male</td>\n",
       "      <td>1974.0</td>\n",
       "    </tr>\n",
       "    <tr>\n",
       "      <th>2</th>\n",
       "      <td>9080479</td>\n",
       "      <td>3/31/2016 22:24</td>\n",
       "      <td>3/31/2016 22:26</td>\n",
       "      <td>4337</td>\n",
       "      <td>124</td>\n",
       "      <td>344</td>\n",
       "      <td>Ravenswood Ave &amp; Lawrence Ave</td>\n",
       "      <td>242</td>\n",
       "      <td>Damen Ave &amp; Leland Ave</td>\n",
       "      <td>Subscriber</td>\n",
       "      <td>Female</td>\n",
       "      <td>1992.0</td>\n",
       "    </tr>\n",
       "    <tr>\n",
       "      <th>3</th>\n",
       "      <td>9080475</td>\n",
       "      <td>3/31/2016 22:22</td>\n",
       "      <td>3/31/2016 22:41</td>\n",
       "      <td>3760</td>\n",
       "      <td>1181</td>\n",
       "      <td>318</td>\n",
       "      <td>Southport Ave &amp; Irving Park Rd</td>\n",
       "      <td>458</td>\n",
       "      <td>Broadway &amp; Thorndale Ave</td>\n",
       "      <td>Subscriber</td>\n",
       "      <td>Female</td>\n",
       "      <td>1979.0</td>\n",
       "    </tr>\n",
       "    <tr>\n",
       "      <th>4</th>\n",
       "      <td>9080443</td>\n",
       "      <td>3/31/2016 22:08</td>\n",
       "      <td>3/31/2016 22:19</td>\n",
       "      <td>1270</td>\n",
       "      <td>656</td>\n",
       "      <td>345</td>\n",
       "      <td>Lake Park Ave &amp; 56th St</td>\n",
       "      <td>426</td>\n",
       "      <td>Ellis Ave &amp; 60th St</td>\n",
       "      <td>Subscriber</td>\n",
       "      <td>Female</td>\n",
       "      <td>1997.0</td>\n",
       "    </tr>\n",
       "  </tbody>\n",
       "</table>\n",
       "</div>"
      ],
      "text/plain": [
       "   trip_id        starttime         stoptime  bikeid  tripduration  \\\n",
       "0  9080545  3/31/2016 23:30  3/31/2016 23:46    2295           926   \n",
       "1  9080521  3/31/2016 22:59  3/31/2016 23:02    3439           198   \n",
       "2  9080479  3/31/2016 22:24  3/31/2016 22:26    4337           124   \n",
       "3  9080475  3/31/2016 22:22  3/31/2016 22:41    3760          1181   \n",
       "4  9080443  3/31/2016 22:08  3/31/2016 22:19    1270           656   \n",
       "\n",
       "   from_station_id               from_station_name  to_station_id  \\\n",
       "0              156       Clark St & Wellington Ave            166   \n",
       "1              259     California Ave & Francis Pl            276   \n",
       "2              344   Ravenswood Ave & Lawrence Ave            242   \n",
       "3              318  Southport Ave & Irving Park Rd            458   \n",
       "4              345         Lake Park Ave & 56th St            426   \n",
       "\n",
       "                to_station_name    usertype  gender  birthyear  \n",
       "0  Ashland Ave & Wrightwood Ave  Subscriber    Male     1990.0  \n",
       "1    California Ave & North Ave  Subscriber    Male     1974.0  \n",
       "2        Damen Ave & Leland Ave  Subscriber  Female     1992.0  \n",
       "3      Broadway & Thorndale Ave  Subscriber  Female     1979.0  \n",
       "4           Ellis Ave & 60th St  Subscriber  Female     1997.0  "
      ]
     },
     "execution_count": 6,
     "metadata": {},
     "output_type": "execute_result"
    }
   ],
   "source": [
    "chicago.head()"
   ]
  },
  {
   "cell_type": "markdown",
   "metadata": {},
   "source": [
    "## 1. Exploratory Data Analysis"
   ]
  },
  {
   "cell_type": "markdown",
   "metadata": {},
   "source": [
    "### 1.1 Demographic Information"
   ]
  },
  {
   "cell_type": "markdown",
   "metadata": {},
   "source": [
    "#### 1.1.1 Distribution of gender for riders"
   ]
  },
  {
   "cell_type": "markdown",
   "metadata": {},
   "source": [
    "1. For chicago.csv"
   ]
  },
  {
   "cell_type": "code",
   "execution_count": 5,
   "metadata": {
    "scrolled": true
   },
   "outputs": [
    {
     "data": {
      "image/png": "[encoded data removed]",
      "text/plain": [
       "<Figure size 432x288 with 1 Axes>"
      ]
     },
     "metadata": {
      "needs_background": "light"
     },
     "output_type": "display_data"
    }
   ],
   "source": [
    "chicago_male = chicago[chicago.gender == 'Male'].gender\n",
    "chicago_female = chicago[chicago.gender == 'Female'].gender\n",
    "chicago_gender = [np.ones(len(chicago_male)), np.zeros(len(chicago_female))]\n",
    "plt.hist(chicago_gender, label = ['Male','Female'])\n",
    "plt.legend()\n",
    "plt.title('Number of Female vs Male Riders');"
   ]
  },
  {
   "cell_type": "markdown",
   "metadata": {},
   "source": [
    "2. For ny.csv"
   ]
  },
  {
   "cell_type": "code",
   "execution_count": 6,
   "metadata": {},
   "outputs": [
    {
     "data": {
      "image/png": "[encoded data removed]",
      "text/plain": [
       "<Figure size 432x288 with 1 Axes>"
      ]
     },
     "metadata": {
      "needs_background": "light"
     },
     "output_type": "display_data"
    }
   ],
   "source": [
    "ny_male = ny[ny.gender == 1].gender\n",
    "ny_female = ny[ny.gender == 0].gender\n",
    "ny_unknown = ny[ny.gender == 2].gender\n",
    "ny_gender = [np.ones(len(ny_male)), np.zeros(len(ny_female)), [2]*len(ny_unknown)]\n",
    "plt.hist(ny_gender, label = ['Male','Female','Unspecificed'])\n",
    "plt.title('Distribution of Gender for NY')\n",
    "plt.legend();"
   ]
  },
  {
   "cell_type": "markdown",
   "metadata": {},
   "source": [
    "3. Washington DC dataset has no gender attribute."
   ]
  },
  {
   "cell_type": "markdown",
   "metadata": {},
   "source": [
    "**Based on research online, females make up a small percentage of all bike share users. So it makes sense that 0 maps to Female, 1 maps to Male, and 2 maps to unspecified. After looking at the NaNs in Chicago, it turns out that the number of NaNs is also consistently higher than females, which is a pattern we see in NY.**"
   ]
  },
  {
   "cell_type": "markdown",
   "metadata": {},
   "source": [
    "#### 1.1.2. Distribution of Birth Years in Chicago and NY"
   ]
  },
  {
   "cell_type": "code",
   "execution_count": 7,
   "metadata": {},
   "outputs": [
    {
     "data": {
      "image/png": "[encoded data removed]",
      "text/plain": [
       "<Figure size 432x288 with 1 Axes>"
      ]
     },
     "metadata": {
      "needs_background": "light"
     },
     "output_type": "display_data"
    },
    {
     "data": {
      "image/png": "[encoded data removed]",
      "text/plain": [
       "<Figure size 432x288 with 1 Axes>"
      ]
     },
     "metadata": {
      "needs_background": "light"
     },
     "output_type": "display_data"
    }
   ],
   "source": [
    "plt.hist(chicago['birthyear'].dropna(), bins = 50, label = 'Chicago')\n",
    "plt.legend()\n",
    "plt.xlabel('Birth Year')\n",
    "plt.show()\n",
    "plt.hist(ny['birth year'].dropna(), bins = 50, label = 'NY')\n",
    "plt.legend()\n",
    "plt.xlabel('Birth Year')\n",
    "plt.show()"
   ]
  },
  {
   "cell_type": "markdown",
   "metadata": {},
   "source": [
    "**It seems like there are people who are over 100 years old who are renting bikes. I don't think this is realistic (may have been a typo. They probably meant 1980 instead of 1880) so I think it would make sense to drop these data points.**"
   ]
  },
  {
   "cell_type": "markdown",
   "metadata": {},
   "source": [
    "### 1.2 Rental Times"
   ]
  },
  {
   "cell_type": "markdown",
   "metadata": {},
   "source": [
    "#### 1.2.1 Visualize the three distribution of trip duration in minutes across all three cities"
   ]
  },
  {
   "cell_type": "code",
   "execution_count": 8,
   "metadata": {},
   "outputs": [],
   "source": [
    "chicago['tripduration'] = chicago.tripduration/60\n",
    "ny['tripduration'] = ny.tripduration/60\n",
    "dc['Duration (min)'] = dc['Duration (ms)']/60000"
   ]
  },
  {
   "cell_type": "code",
   "execution_count": 9,
   "metadata": {},
   "outputs": [
    {
     "data": {
      "image/png": "[encoded data removed]",
      "text/plain": [
       "<Figure size 432x288 with 1 Axes>"
      ]
     },
     "metadata": {
      "needs_background": "light"
     },
     "output_type": "display_data"
    },
    {
     "data": {
      "image/png": "[encoded data removed]",
      "text/plain": [
       "<Figure size 432x288 with 1 Axes>"
      ]
     },
     "metadata": {
      "needs_background": "light"
     },
     "output_type": "display_data"
    },
    {
     "data": {
      "image/png": "[encoded data removed]",
      "text/plain": [
       "<Figure size 432x288 with 1 Axes>"
      ]
     },
     "metadata": {
      "needs_background": "light"
     },
     "output_type": "display_data"
    }
   ],
   "source": [
    "plt.hist(chicago.tripduration, bins = 50, alpha = 0.5, label = 'Chicago')\n",
    "plt.xlabel('Trip Duration (min)')\n",
    "plt.legend()\n",
    "plt.show();\n",
    "plt.hist(ny.tripduration, bins = 50, alpha = 0.5, label = 'NY')\n",
    "plt.xlabel('Trip Duration (min)')\n",
    "plt.legend()\n",
    "plt.show();\n",
    "plt.hist(dc['Duration (min)'], bins = 50, alpha = 0.5, label = 'DC')\n",
    "plt.xlabel('Trip Duration (min)')\n",
    "plt.legend()\n",
    "plt.show();"
   ]
  },
  {
   "cell_type": "markdown",
   "metadata": {},
   "source": [
    "**The plots above are not useful. I will drop the extreme values since they are outliers and probably due to the fact that someone either stole the bike or didn't dock it correctly**"
   ]
  },
  {
   "cell_type": "code",
   "execution_count": 10,
   "metadata": {},
   "outputs": [],
   "source": [
    "chicago = chicago[chicago.tripduration <= 100]\n",
    "ny = ny[ny.tripduration <= 100]\n",
    "dc = dc[dc['Duration (min)'] < 100]"
   ]
  },
  {
   "cell_type": "code",
   "execution_count": 11,
   "metadata": {},
   "outputs": [
    {
     "data": {
      "image/png": "[encoded data removed]",
      "text/plain": [
       "<Figure size 432x288 with 1 Axes>"
      ]
     },
     "metadata": {
      "needs_background": "light"
     },
     "output_type": "display_data"
    }
   ],
   "source": [
    "plt.hist(ny[ny.tripduration < 100].tripduration, bins = 50, alpha = 0.5, label = 'NY')\n",
    "plt.hist(chicago[chicago.tripduration < 100].tripduration, bins = 50, alpha = 0.5, label = 'Chicago')\n",
    "plt.hist((dc[dc['Duration (min)'] < 100]['Duration (min)']), bins = 50, alpha = 0.5, label = 'DC')\n",
    "plt.legend()\n",
    "plt.title('Trip Duration (min) By City')\n",
    "plt.xlabel('Minutes');"
   ]
  },
  {
   "cell_type": "markdown",
   "metadata": {},
   "source": [
    "#### 1.2.2 Visualize start time trips by city split by hour "
   ]
  },
  {
   "cell_type": "code",
   "execution_count": 12,
   "metadata": {},
   "outputs": [],
   "source": [
    "ny['starttime'] = pd.to_datetime(ny.starttime)\n",
    "chicago['starttime'] = pd.to_datetime(chicago.starttime)\n",
    "dc['Start date'] = pd.to_datetime(dc['Start date'])\n",
    "\n",
    "ny['stoptime'] = pd.to_datetime(ny.stoptime)\n",
    "chicago['stoptime'] = pd.to_datetime(chicago.stoptime)\n",
    "dc['End date'] = pd.to_datetime(dc['End date'])"
   ]
  },
  {
   "cell_type": "code",
   "execution_count": 13,
   "metadata": {},
   "outputs": [
    {
     "data": {
      "image/png": "[encoded data removed]",
      "text/plain": [
       "<Figure size 432x288 with 1 Axes>"
      ]
     },
     "metadata": {
      "needs_background": "light"
     },
     "output_type": "display_data"
    }
   ],
   "source": [
    "ny_start_hour = ny.starttime.dt.hour\n",
    "chicago_start_hour = chicago.starttime.dt.hour\n",
    "dc_start_hour = dc['Start date'].dt.hour\n",
    "\n",
    "plt.hist(ny_start_hour, bins = 20, alpha = 0.5, label = 'NY')\n",
    "plt.hist(chicago_start_hour, bins = 20, alpha = 0.5, label = 'Chicago')\n",
    "plt.hist(dc_start_hour, bins = 20, alpha = 0.5, label = 'DC')\n",
    "plt.legend()\n",
    "plt.title('Start Trip Hour By City')\n",
    "plt.xlabel('start hour');"
   ]
  },
  {
   "cell_type": "markdown",
   "metadata": {},
   "source": [
    "**Interpreting trip activity by hour is intuitive. I would assume people would bike during the day time and it seems like the most activity occurs between 8 AM and 6PM. There are also two spikes around 8AM and 5PM, which seem to indicate when people go to and get off from work.**"
   ]
  },
  {
   "cell_type": "markdown",
   "metadata": {},
   "source": [
    "### 1.3 Further exploration"
   ]
  },
  {
   "cell_type": "markdown",
   "metadata": {},
   "source": [
    "#### 1.3.1 Visualize popular routes"
   ]
  },
  {
   "cell_type": "code",
   "execution_count": 18,
   "metadata": {},
   "outputs": [
    {
     "name": "stdout",
     "output_type": "stream",
     "text": [
      "**Attribute One: Popular Routes (Start to End Stations)**\n"
     ]
    },
    {
     "data": {
      "image/png": "[encoded data removed]",
      "text/plain": [
       "<Figure size 432x288 with 1 Axes>"
      ]
     },
     "metadata": {
      "needs_background": "light"
     },
     "output_type": "display_data"
    },
    {
     "data": {
      "image/png": "[encoded data removed]",
      "text/plain": [
       "<Figure size 432x288 with 1 Axes>"
      ]
     },
     "metadata": {
      "needs_background": "light"
     },
     "output_type": "display_data"
    },
    {
     "data": {
      "image/png": "[encoded data removed]",
      "text/plain": [
       "<Figure size 432x288 with 1 Axes>"
      ]
     },
     "metadata": {
      "needs_background": "light"
     },
     "output_type": "display_data"
    }
   ],
   "source": [
    "ny['route'] = ny['start station name'] + ' / ' + ny['end station name']\n",
    "chicago['route'] = chicago.from_station_name + ' / ' + chicago.to_station_name\n",
    "dc['route'] = dc['Start station'] + ' / ' + dc['End station']\n",
    "\n",
    "ny_popular_routes = ny.groupby('route').count().sort_values('tripduration',ascending=False).head(15).reset_index().rename({'tripduration':'count'},axis=1)\n",
    "chicago_popular_routes = chicago.groupby('route').count().sort_values('trip_id',ascending=False).head(15).reset_index().rename({'trip_id':'count'},axis=1)\n",
    "dc_popular_routes =  dc.groupby('route').count().sort_values('Start date',ascending=False).head(15).reset_index().rename({'Start date':'count'},axis=1)\n",
    "\n",
    "print(\"**Attribute One: Popular Routes (Start to End Stations)**\")\n",
    "sns.barplot(x=\"count\", y='route', data=chicago_popular_routes).set_title('Chicago')\n",
    "plt.show()\n",
    "sns.barplot(x=\"count\", y='route', data=ny_popular_routes).set_title('NY')\n",
    "plt.show()\n",
    "sns.barplot(x=\"count\",y='route',data=dc_popular_routes).set_title('DC')\n",
    "plt.show()"
   ]
  },
  {
   "cell_type": "markdown",
   "metadata": {},
   "source": [
    "#### 1.3.2 Visualize number of roundtrips\n"
   ]
  },
  {
   "cell_type": "code",
   "execution_count": 19,
   "metadata": {},
   "outputs": [],
   "source": [
    "chicago['roundtrip'] = (chicago.from_station_id == chicago.to_station_id).apply(lambda x: int(x))\n",
    "chicago_route_counts = chicago.groupby('route').count()[['trip_id']].rename({'trip_id':'count'},axis=1).reset_index()\n",
    "chicago_tripduration = chicago.groupby('route').mean().sort_values('tripduration',ascending=False).round()[['tripduration','roundtrip']].reset_index()\n",
    "chicago_route_durations = chicago_route_counts.merge(chicago_tripduration, on = 'route')\n",
    "chicago_route_durations = chicago_route_durations[chicago_route_durations.tripduration <= 4000]\n",
    "\n",
    "dc['roundtrip'] = (dc['Start station'] == dc['End station']).apply(lambda x: int(x))\n",
    "dc_route_counts = dc.groupby('route').count()[['Start date']].rename({'Member Type':'count'},axis=1).reset_index()\n",
    "dc_tripduration = dc.groupby('route').mean().sort_values('Duration (ms)',ascending=False).round()[['Duration (ms)','roundtrip']].reset_index()\n",
    "dc_route_durations = dc_route_counts.merge(dc_tripduration, on = 'route')\n",
    "dc_route_durations = dc_route_durations[dc_route_durations['Duration (ms)'] <= 40000]\n",
    "\n",
    "ny['roundtrip'] = (ny['start station name'] == ny['end station name']).apply(lambda x: int(x))\n",
    "ny_route_counts = ny.groupby('route').count()[['bikeid']].rename({'trip_id':'count'},axis=1).reset_index()\n",
    "ny_tripduration = ny.groupby('route').mean().sort_values('tripduration',ascending=False).round()[['tripduration','roundtrip']].reset_index()\n",
    "ny_route_durations = ny_route_counts.merge(ny_tripduration, on = 'route')\n",
    "ny_route_durations = ny_route_durations[ny_route_durations.tripduration <= 4000]\n",
    "\n",
    "roundtrips = pd.DataFrame({'City':list(['Chicago']*len(chicago[chicago.roundtrip==1])+['NY']*len(ny[ny.roundtrip==1])+['DC']*len(dc[dc.roundtrip==1])),\n",
    "              'roundtrip':pd.concat([chicago[chicago.roundtrip==1].roundtrip,ny[ny.roundtrip==1].roundtrip,dc[dc.roundtrip==1].roundtrip])})\n",
    "onewaytrips = pd.DataFrame({'City':list(['Chicago']*len(chicago[chicago.roundtrip==0])+['NY']*len(ny[ny.roundtrip==0])+['DC']*len(dc[dc.roundtrip==0])),\n",
    "              'roundtrip':pd.concat([chicago[chicago.roundtrip==0].roundtrip,ny[ny.roundtrip==0].roundtrip,dc[dc.roundtrip==0].roundtrip])})"
   ]
  },
  {
   "cell_type": "code",
   "execution_count": 21,
   "metadata": {},
   "outputs": [
    {
     "name": "stdout",
     "output_type": "stream",
     "text": [
      "**Attribute Two: Number of Trips (Round/One-Way) Per City**\n"
     ]
    },
    {
     "data": {
      "image/png": "[encoded data removed]",
      "text/plain": [
       "<Figure size 432x288 with 1 Axes>"
      ]
     },
     "metadata": {
      "needs_background": "light"
     },
     "output_type": "display_data"
    },
    {
     "data": {
      "image/png": "[encoded data removed]",
      "text/plain": [
       "<Figure size 432x288 with 1 Axes>"
      ]
     },
     "metadata": {
      "needs_background": "light"
     },
     "output_type": "display_data"
    }
   ],
   "source": [
    "print(\"**Attribute Two: Number of Trips (Round/One-Way) Per City**\")\n",
    "\n",
    "sns.countplot(roundtrips.City).set_title('Number of Round Trips')\n",
    "plt.show()\n",
    "sns.countplot(onewaytrips.City).set_title('Number of One-Way Trips')\n",
    "plt.show()"
   ]
  },
  {
   "cell_type": "markdown",
   "metadata": {},
   "source": [
    "#### 1.3.3. Visualize trip duration based on age"
   ]
  },
  {
   "cell_type": "code",
   "execution_count": 22,
   "metadata": {},
   "outputs": [
    {
     "name": "stdout",
     "output_type": "stream",
     "text": [
      "**Attribute Three: Comparing tripduration based on birthyear (DC doesn't have this feature)**\n"
     ]
    },
    {
     "data": {
      "image/png": "[encoded data removed]",
      "text/plain": [
       "<Figure size 432x288 with 1 Axes>"
      ]
     },
     "metadata": {
      "needs_background": "light"
     },
     "output_type": "display_data"
    },
    {
     "data": {
      "image/png": "[encoded data removed]",
      "text/plain": [
       "<Figure size 432x288 with 1 Axes>"
      ]
     },
     "metadata": {
      "needs_background": "light"
     },
     "output_type": "display_data"
    }
   ],
   "source": [
    "print(\"**Attribute Three: Comparing tripduration based on birthyear (DC doesn't have this feature)**\")\n",
    "plt.hist(chicago[chicago.birthyear>=1970].tripduration, bins = 20,alpha = 0.5, label = '<= 40 years old')\n",
    "plt.hist(chicago[chicago.birthyear<1970].tripduration, bins = 20,alpha = 0.5, label = '40+ years old')\n",
    "plt.title('Chicago')\n",
    "plt.xlabel('Trip Duration (min)')\n",
    "plt.legend()\n",
    "plt.show()\n",
    "\n",
    "plt.hist(ny[ny['birth year']>=1970].tripduration, bins = 20,alpha = 0.5, label = '<= 40 years old')\n",
    "plt.hist(ny[ny['birth year']<1970].tripduration, bins = 20,alpha = 0.5, label = '40+ years old')\n",
    "plt.title('NY')\n",
    "plt.xlabel('Trip Duration (min)')\n",
    "plt.legend()\n",
    "plt.show()\n"
   ]
  },
  {
   "cell_type": "markdown",
   "metadata": {},
   "source": [
    "#### 1.3.4 Insights\n",
    "\n",
    "Visualization 1.3.1. shows which routes were most popular amongst users in each city. Many of them are located near parks, areas of water, or memorials (based on name of station). In 1.3.2, I then wanted to see what kind of trips people were taking. It seems that most of them are one way trips, but there are a few roundtrips. The ratio of one-way and roundtrips between cities is roughly the same. Finally, 1.3.3. explores  whether age would affect trip duration, and it turns out it doesn't make a huge difference. I tested different partitions (30, 40, 50) and they all consistently averaged around the same trip times. "
   ]
  },
  {
   "cell_type": "markdown",
   "metadata": {},
   "source": [
    "#### 1.3.3. Exploring the trip duration of popular routes\n",
    "Attempting to get a plausible explanation for the shape of the distribution in each bike share dataset."
   ]
  },
  {
   "cell_type": "code",
   "execution_count": 23,
   "metadata": {},
   "outputs": [],
   "source": [
    "c_pop_routes = chicago[chicago.route.isin(chicago_popular_routes['route'])]\n",
    "n_pop_routes = ny[ny.route.isin(ny_popular_routes.route)]\n",
    "d_pop_routes = dc[dc.route.isin(dc_popular_routes.route)]"
   ]
  },
  {
   "cell_type": "code",
   "execution_count": 24,
   "metadata": {},
   "outputs": [
    {
     "data": {
      "image/png": "[encoded data removed]",
      "text/plain": [
       "<Figure size 432x288 with 1 Axes>"
      ]
     },
     "metadata": {
      "needs_background": "light"
     },
     "output_type": "display_data"
    },
    {
     "data": {
      "image/png": "[encoded data removed]",
      "text/plain": [
       "<Figure size 432x288 with 1 Axes>"
      ]
     },
     "metadata": {
      "needs_background": "light"
     },
     "output_type": "display_data"
    },
    {
     "data": {
      "image/png": "[encoded data removed]",
      "text/plain": [
       "<Figure size 432x288 with 1 Axes>"
      ]
     },
     "metadata": {
      "needs_background": "light"
     },
     "output_type": "display_data"
    }
   ],
   "source": [
    "plt.hist(c_pop_routes.tripduration, bins = 50)\n",
    "plt.xlabel('Trip Duration (min)')\n",
    "plt.title('Chicago Popular Route Durations')\n",
    "plt.axvline(np.median(c_pop_routes.tripduration),color='red')\n",
    "plt.show()\n",
    "plt.hist(n_pop_routes.tripduration, bins = 50)\n",
    "plt.xlabel('Trip Duration (min)')\n",
    "plt.title('NY Popular Route Durations')\n",
    "plt.axvline(np.median(n_pop_routes.tripduration),color='red',label = 'median')\n",
    "plt.axvline(np.mean(n_pop_routes.tripduration),color='green',label='mean')\n",
    "plt.legend()\n",
    "plt.show()\n",
    "plt.hist(d_pop_routes['Duration (min)'], bins = 50)\n",
    "plt.xlabel('Trip Duration (min)')\n",
    "plt.title('DC Popular Route Durations')\n",
    "plt.axvline(np.median(d_pop_routes['Duration (min)']),color='red')\n",
    "plt.show();"
   ]
  },
  {
   "cell_type": "code",
   "execution_count": 26,
   "metadata": {},
   "outputs": [
    {
     "name": "stdout",
     "output_type": "stream",
     "text": [
      "**Descriptive Statistics for Chicago, NY, DC**\n",
      "Average Trip Duration:\t\t\t 15 13 15\n",
      "Average Trip Duration of Popular Routes: 24 17 15\n",
      "\n",
      "Median Trip Durations:\t\t\t 12 10 11\n",
      "Median Trip Durations of Popular Routes: 20 8 11\n"
     ]
    }
   ],
   "source": [
    "print('**Descriptive Statistics for Chicago, NY, DC**')\n",
    "print('Average Trip Duration:\\t\\t\\t',round(chicago.tripduration.mean()), round(ny.tripduration.mean()), round(dc['Duration (min)'].mean()))\n",
    "print('Average Trip Duration of Popular Routes:', round(c_pop_routes.tripduration.mean()),round(n_pop_routes.tripduration.mean()),round(dc['Duration (min)'].mean()))\n",
    "print()\n",
    "print('Median Trip Durations:\\t\\t\\t',round(chicago.tripduration.median()), round(ny.tripduration.median()), round(dc['Duration (min)'].median()))\n",
    "print('Median Trip Durations of Popular Routes:',round(c_pop_routes.tripduration.median()),round(n_pop_routes.tripduration.median()),round(dc['Duration (min)'].median()))"
   ]
  },
  {
   "cell_type": "code",
   "execution_count": 28,
   "metadata": {},
   "outputs": [
    {
     "name": "stdout",
     "output_type": "stream",
     "text": [
      "**Usertype Trip Durations**\n"
     ]
    },
    {
     "data": {
      "image/png": "[encoded data removed]",
      "text/plain": [
       "<Figure size 432x288 with 1 Axes>"
      ]
     },
     "metadata": {
      "needs_background": "light"
     },
     "output_type": "display_data"
    },
    {
     "data": {
      "image/png": "[encoded data removed]",
      "text/plain": [
       "<Figure size 432x288 with 1 Axes>"
      ]
     },
     "metadata": {
      "needs_background": "light"
     },
     "output_type": "display_data"
    },
    {
     "data": {
      "image/png": "[encoded data removed]",
      "text/plain": [
       "<Figure size 432x288 with 1 Axes>"
      ]
     },
     "metadata": {
      "needs_background": "light"
     },
     "output_type": "display_data"
    }
   ],
   "source": [
    "print(\"**Usertype Trip Durations**\")\n",
    "plt.hist(chicago[chicago.usertype=='Customer'].tripduration, alpha = 0.5, label = 'Customer')\n",
    "plt.hist(chicago[chicago.usertype=='Subscriber'].tripduration, alpha = 0.5, label = 'Subscriber')\n",
    "plt.title('Chicago')\n",
    "plt.xlabel('Trip Duration (min)')\n",
    "plt.legend()\n",
    "plt.show()\n",
    "plt.hist(ny[ny.usertype=='Customer'].tripduration, bins = 20,alpha = 0.5, label = 'Customer')\n",
    "plt.hist(ny[ny.usertype=='Subscriber'].tripduration, bins = 20,alpha = 0.5, label = 'Subscriber')\n",
    "plt.title('NY')\n",
    "plt.xlabel('Trip Duration (min)')\n",
    "plt.legend()\n",
    "plt.show()\n",
    "plt.hist(dc[dc['Member Type']=='Casual']['Duration (min)'], bins = 20, alpha = 0.5, label = 'Customer')\n",
    "plt.hist(dc[dc['Member Type']=='Registered']['Duration (min)'], bins = 20, alpha = 0.5, label = 'Subscriber')\n",
    "plt.title('DC')\n",
    "plt.xlabel('Trip Duration (min)')\n",
    "plt.legend()\n",
    "plt.show()"
   ]
  },
  {
   "cell_type": "code",
   "execution_count": 32,
   "metadata": {
    "scrolled": true
   },
   "outputs": [
    {
     "name": "stdout",
     "output_type": "stream",
     "text": [
      "**A comparison between all routes versus popular routes, given user type**\n",
      "**Chicago**\n"
     ]
    },
    {
     "data": {
      "text/html": [
       "<div>\n",
       "<style scoped>\n",
       "    .dataframe tbody tr th:only-of-type {\n",
       "        vertical-align: middle;\n",
       "    }\n",
       "\n",
       "    .dataframe tbody tr th {\n",
       "        vertical-align: top;\n",
       "    }\n",
       "\n",
       "    .dataframe thead th {\n",
       "        text-align: right;\n",
       "    }\n",
       "</style>\n",
       "<table border=\"1\" class=\"dataframe\">\n",
       "  <thead>\n",
       "    <tr style=\"text-align: right;\">\n",
       "      <th></th>\n",
       "      <th>route</th>\n",
       "    </tr>\n",
       "    <tr>\n",
       "      <th>usertype</th>\n",
       "      <th></th>\n",
       "    </tr>\n",
       "  </thead>\n",
       "  <tbody>\n",
       "    <tr>\n",
       "      <th>Customer</th>\n",
       "      <td>16644</td>\n",
       "    </tr>\n",
       "    <tr>\n",
       "      <th>Subscriber</th>\n",
       "      <td>54907</td>\n",
       "    </tr>\n",
       "  </tbody>\n",
       "</table>\n",
       "</div>"
      ],
      "text/plain": [
       "            route\n",
       "usertype         \n",
       "Customer    16644\n",
       "Subscriber  54907"
      ]
     },
     "metadata": {},
     "output_type": "display_data"
    },
    {
     "data": {
      "text/html": [
       "<div>\n",
       "<style scoped>\n",
       "    .dataframe tbody tr th:only-of-type {\n",
       "        vertical-align: middle;\n",
       "    }\n",
       "\n",
       "    .dataframe tbody tr th {\n",
       "        vertical-align: top;\n",
       "    }\n",
       "\n",
       "    .dataframe thead th {\n",
       "        text-align: right;\n",
       "    }\n",
       "</style>\n",
       "<table border=\"1\" class=\"dataframe\">\n",
       "  <thead>\n",
       "    <tr style=\"text-align: right;\">\n",
       "      <th></th>\n",
       "      <th>route</th>\n",
       "    </tr>\n",
       "    <tr>\n",
       "      <th>usertype</th>\n",
       "      <th></th>\n",
       "    </tr>\n",
       "  </thead>\n",
       "  <tbody>\n",
       "    <tr>\n",
       "      <th>Customer</th>\n",
       "      <td>1434</td>\n",
       "    </tr>\n",
       "    <tr>\n",
       "      <th>Subscriber</th>\n",
       "      <td>300</td>\n",
       "    </tr>\n",
       "  </tbody>\n",
       "</table>\n",
       "</div>"
      ],
      "text/plain": [
       "            route\n",
       "usertype         \n",
       "Customer     1434\n",
       "Subscriber    300"
      ]
     },
     "metadata": {},
     "output_type": "display_data"
    },
    {
     "name": "stdout",
     "output_type": "stream",
     "text": [
      "**NY**\n"
     ]
    },
    {
     "data": {
      "text/html": [
       "<div>\n",
       "<style scoped>\n",
       "    .dataframe tbody tr th:only-of-type {\n",
       "        vertical-align: middle;\n",
       "    }\n",
       "\n",
       "    .dataframe tbody tr th {\n",
       "        vertical-align: top;\n",
       "    }\n",
       "\n",
       "    .dataframe thead th {\n",
       "        text-align: right;\n",
       "    }\n",
       "</style>\n",
       "<table border=\"1\" class=\"dataframe\">\n",
       "  <thead>\n",
       "    <tr style=\"text-align: right;\">\n",
       "      <th></th>\n",
       "      <th>route</th>\n",
       "    </tr>\n",
       "    <tr>\n",
       "      <th>usertype</th>\n",
       "      <th></th>\n",
       "    </tr>\n",
       "  </thead>\n",
       "  <tbody>\n",
       "    <tr>\n",
       "      <th>Customer</th>\n",
       "      <td>29350</td>\n",
       "    </tr>\n",
       "    <tr>\n",
       "      <th>Subscriber</th>\n",
       "      <td>245398</td>\n",
       "    </tr>\n",
       "  </tbody>\n",
       "</table>\n",
       "</div>"
      ],
      "text/plain": [
       "             route\n",
       "usertype          \n",
       "Customer     29350\n",
       "Subscriber  245398"
      ]
     },
     "metadata": {},
     "output_type": "display_data"
    },
    {
     "data": {
      "text/html": [
       "<div>\n",
       "<style scoped>\n",
       "    .dataframe tbody tr th:only-of-type {\n",
       "        vertical-align: middle;\n",
       "    }\n",
       "\n",
       "    .dataframe tbody tr th {\n",
       "        vertical-align: top;\n",
       "    }\n",
       "\n",
       "    .dataframe thead th {\n",
       "        text-align: right;\n",
       "    }\n",
       "</style>\n",
       "<table border=\"1\" class=\"dataframe\">\n",
       "  <thead>\n",
       "    <tr style=\"text-align: right;\">\n",
       "      <th></th>\n",
       "      <th>route</th>\n",
       "    </tr>\n",
       "    <tr>\n",
       "      <th>usertype</th>\n",
       "      <th></th>\n",
       "    </tr>\n",
       "  </thead>\n",
       "  <tbody>\n",
       "    <tr>\n",
       "      <th>Customer</th>\n",
       "      <td>546</td>\n",
       "    </tr>\n",
       "    <tr>\n",
       "      <th>Subscriber</th>\n",
       "      <td>897</td>\n",
       "    </tr>\n",
       "  </tbody>\n",
       "</table>\n",
       "</div>"
      ],
      "text/plain": [
       "            route\n",
       "usertype         \n",
       "Customer      546\n",
       "Subscriber    897"
      ]
     },
     "metadata": {},
     "output_type": "display_data"
    },
    {
     "name": "stdout",
     "output_type": "stream",
     "text": [
      "**DC**\n"
     ]
    },
    {
     "data": {
      "text/html": [
       "<div>\n",
       "<style scoped>\n",
       "    .dataframe tbody tr th:only-of-type {\n",
       "        vertical-align: middle;\n",
       "    }\n",
       "\n",
       "    .dataframe tbody tr th {\n",
       "        vertical-align: top;\n",
       "    }\n",
       "\n",
       "    .dataframe thead th {\n",
       "        text-align: right;\n",
       "    }\n",
       "</style>\n",
       "<table border=\"1\" class=\"dataframe\">\n",
       "  <thead>\n",
       "    <tr style=\"text-align: right;\">\n",
       "      <th></th>\n",
       "      <th>route</th>\n",
       "    </tr>\n",
       "    <tr>\n",
       "      <th>Member Type</th>\n",
       "      <th></th>\n",
       "    </tr>\n",
       "  </thead>\n",
       "  <tbody>\n",
       "    <tr>\n",
       "      <th>Casual</th>\n",
       "      <td>13365</td>\n",
       "    </tr>\n",
       "    <tr>\n",
       "      <th>Registered</th>\n",
       "      <td>51631</td>\n",
       "    </tr>\n",
       "  </tbody>\n",
       "</table>\n",
       "</div>"
      ],
      "text/plain": [
       "             route\n",
       "Member Type       \n",
       "Casual       13365\n",
       "Registered   51631"
      ]
     },
     "metadata": {},
     "output_type": "display_data"
    },
    {
     "data": {
      "text/html": [
       "<div>\n",
       "<style scoped>\n",
       "    .dataframe tbody tr th:only-of-type {\n",
       "        vertical-align: middle;\n",
       "    }\n",
       "\n",
       "    .dataframe tbody tr th {\n",
       "        vertical-align: top;\n",
       "    }\n",
       "\n",
       "    .dataframe thead th {\n",
       "        text-align: right;\n",
       "    }\n",
       "</style>\n",
       "<table border=\"1\" class=\"dataframe\">\n",
       "  <thead>\n",
       "    <tr style=\"text-align: right;\">\n",
       "      <th></th>\n",
       "      <th>route</th>\n",
       "    </tr>\n",
       "    <tr>\n",
       "      <th>Member Type</th>\n",
       "      <th></th>\n",
       "    </tr>\n",
       "  </thead>\n",
       "  <tbody>\n",
       "    <tr>\n",
       "      <th>Casual</th>\n",
       "      <td>759</td>\n",
       "    </tr>\n",
       "    <tr>\n",
       "      <th>Registered</th>\n",
       "      <td>495</td>\n",
       "    </tr>\n",
       "  </tbody>\n",
       "</table>\n",
       "</div>"
      ],
      "text/plain": [
       "             route\n",
       "Member Type       \n",
       "Casual         759\n",
       "Registered     495"
      ]
     },
     "metadata": {},
     "output_type": "display_data"
    }
   ],
   "source": [
    "print(\"**A comparison between all routes versus popular routes, given user type**\")\n",
    "print(\"**Chicago**\")\n",
    "display(chicago.groupby('usertype').count()[['route']],c_pop_routes.groupby('usertype').count()[['route']])\n",
    "print(\"**NY**\")\n",
    "display(ny.groupby('usertype').count()[['route']],n_pop_routes.groupby('usertype').count()[['route']])\n",
    "print(\"**DC**\")\n",
    "display(dc.groupby('Member Type').count()[['route']],d_pop_routes.groupby('Member Type').count()[['route']])"
   ]
  },
  {
   "cell_type": "markdown",
   "metadata": {},
   "source": [
    "#### 1.3.4. Insights and proposed hypothesis\n",
    "\n",
    " I noticed that popular routes are often taken by customers rather than subscribers. Initially this made sense to me because I felt that popular routes are scenic/leisure trips, hence they are more occasional, so those who take them tend to be one time customers opposed to subscribers who rely on bikes as their main form of transportation. However, after visualizing just user types (independent from route popularity) I found that customers tend to take longer trips in general. So, I'd like to test whether the difference in average trip time between customers and subscribers is significant. I would go about this by conducting a simple t test with an alpha = 0.05. "
   ]
  },
  {
   "cell_type": "markdown",
   "metadata": {},
   "source": [
    "## 2. Hypothesis Testing with Logistic Regression"
   ]
  },
  {
   "cell_type": "markdown",
   "metadata": {},
   "source": [
    "The feature that indicates whether each bike ride corresponds to a casual (customer) or non-casual (subscriber) is particularly useful, because depending on the type of user the bike share company might want to give them different promotions and advertisement. In this part, I will design a test for whether the user is casual or not. I will also try to prevent too many false discoveries, i.e. falsely declaring a casual user as a non-casual one.\n",
    "\n",
    "If the company were to remove the feature that indicts which riders are customers or subscribers due to a change in its privacy policy, designing a test like this one can help the company differentiate between customer or subscriber riders."
   ]
  },
  {
   "cell_type": "markdown",
   "metadata": {},
   "source": [
    "### 2.1 Training a logistic regression model"
   ]
  },
  {
   "cell_type": "code",
   "execution_count": 33,
   "metadata": {},
   "outputs": [],
   "source": [
    "from sklearn.linear_model import LogisticRegression"
   ]
  },
  {
   "cell_type": "markdown",
   "metadata": {},
   "source": [
    "I split the data into 60/20/20 train-validation-test set."
   ]
  },
  {
   "cell_type": "code",
   "execution_count": 34,
   "metadata": {},
   "outputs": [
    {
     "data": {
      "text/html": [
       "<style>#sk-container-id-1 {color: black;background-color: white;}#sk-container-id-1 pre{padding: 0;}#sk-container-id-1 div.sk-toggleable {background-color: white;}#sk-container-id-1 label.sk-toggleable__label {cursor: pointer;display: block;width: 100%;margin-bottom: 0;padding: 0.3em;box-sizing: border-box;text-align: center;}#sk-container-id-1 label.sk-toggleable__label-arrow:before {content: \"▸\";float: left;margin-right: 0.25em;color: #696969;}#sk-container-id-1 label.sk-toggleable__label-arrow:hover:before {color: black;}#sk-container-id-1 div.sk-estimator:hover label.sk-toggleable__label-arrow:before {color: black;}#sk-container-id-1 div.sk-toggleable__content {max-height: 0;max-width: 0;overflow: hidden;text-align: left;background-color: #f0f8ff;}#sk-container-id-1 div.sk-toggleable__content pre {margin: 0.2em;color: black;border-radius: 0.25em;background-color: #f0f8ff;}#sk-container-id-1 input.sk-toggleable__control:checked~div.sk-toggleable__content {max-height: 200px;max-width: 100%;overflow: auto;}#sk-container-id-1 input.sk-toggleable__control:checked~label.sk-toggleable__label-arrow:before {content: \"▾\";}#sk-container-id-1 div.sk-estimator input.sk-toggleable__control:checked~label.sk-toggleable__label {background-color: #d4ebff;}#sk-container-id-1 div.sk-label input.sk-toggleable__control:checked~label.sk-toggleable__label {background-color: #d4ebff;}#sk-container-id-1 input.sk-hidden--visually {border: 0;clip: rect(1px 1px 1px 1px);clip: rect(1px, 1px, 1px, 1px);height: 1px;margin: -1px;overflow: hidden;padding: 0;position: absolute;width: 1px;}#sk-container-id-1 div.sk-estimator {font-family: monospace;background-color: #f0f8ff;border: 1px dotted black;border-radius: 0.25em;box-sizing: border-box;margin-bottom: 0.5em;}#sk-container-id-1 div.sk-estimator:hover {background-color: #d4ebff;}#sk-container-id-1 div.sk-parallel-item::after {content: \"\";width: 100%;border-bottom: 1px solid gray;flex-grow: 1;}#sk-container-id-1 div.sk-label:hover label.sk-toggleable__label {background-color: #d4ebff;}#sk-container-id-1 div.sk-serial::before {content: \"\";position: absolute;border-left: 1px solid gray;box-sizing: border-box;top: 0;bottom: 0;left: 50%;z-index: 0;}#sk-container-id-1 div.sk-serial {display: flex;flex-direction: column;align-items: center;background-color: white;padding-right: 0.2em;padding-left: 0.2em;position: relative;}#sk-container-id-1 div.sk-item {position: relative;z-index: 1;}#sk-container-id-1 div.sk-parallel {display: flex;align-items: stretch;justify-content: center;background-color: white;position: relative;}#sk-container-id-1 div.sk-item::before, #sk-container-id-1 div.sk-parallel-item::before {content: \"\";position: absolute;border-left: 1px solid gray;box-sizing: border-box;top: 0;bottom: 0;left: 50%;z-index: -1;}#sk-container-id-1 div.sk-parallel-item {display: flex;flex-direction: column;z-index: 1;position: relative;background-color: white;}#sk-container-id-1 div.sk-parallel-item:first-child::after {align-self: flex-end;width: 50%;}#sk-container-id-1 div.sk-parallel-item:last-child::after {align-self: flex-start;width: 50%;}#sk-container-id-1 div.sk-parallel-item:only-child::after {width: 0;}#sk-container-id-1 div.sk-dashed-wrapped {border: 1px dashed gray;margin: 0 0.4em 0.5em 0.4em;box-sizing: border-box;padding-bottom: 0.4em;background-color: white;}#sk-container-id-1 div.sk-label label {font-family: monospace;font-weight: bold;display: inline-block;line-height: 1.2em;}#sk-container-id-1 div.sk-label-container {text-align: center;}#sk-container-id-1 div.sk-container {/* jupyter's `normalize.less` sets `[hidden] { display: none; }` but bootstrap.min.css set `[hidden] { display: none !important; }` so we also need the `!important` here to be able to override the default hidden behavior on the sphinx rendered scikit-learn.org. See: https://github.com/scikit-learn/scikit-learn/issues/21755 */display: inline-block !important;position: relative;}#sk-container-id-1 div.sk-text-repr-fallback {display: none;}</style><div id=\"sk-container-id-1\" class=\"sk-top-container\"><div class=\"sk-text-repr-fallback\"><pre>LogisticRegression()</pre><b>In a Jupyter environment, please rerun this cell to show the HTML representation or trust the notebook. <br />On GitHub, the HTML representation is unable to render, please try loading this page with nbviewer.org.</b></div><div class=\"sk-container\" hidden><div class=\"sk-item\"><div class=\"sk-estimator sk-toggleable\"><input class=\"sk-toggleable__control sk-hidden--visually\" id=\"sk-estimator-id-1\" type=\"checkbox\" checked><label for=\"sk-estimator-id-1\" class=\"sk-toggleable__label sk-toggleable__label-arrow\">LogisticRegression</label><div class=\"sk-toggleable__content\"><pre>LogisticRegression()</pre></div></div></div></div></div>"
      ],
      "text/plain": [
       "LogisticRegression()"
      ]
     },
     "execution_count": 34,
     "metadata": {},
     "output_type": "execute_result"
    }
   ],
   "source": [
    "X = ['tripduration','starttime', 'stoptime']\n",
    "y = 'usertype'\n",
    "\n",
    "chicago1 = chicago[['tripduration','starttime', 'stoptime','usertype']]\n",
    "chicago1['starttime'] = chicago1.starttime.dt.hour\n",
    "chicago1['stoptime'] = chicago1.stoptime.dt.hour\n",
    "chicago1['usertype'] = chicago1['usertype'].map({'Customer':0,'Subscriber':1})\n",
    "\n",
    "train = chicago1.sample(frac = 0.6)\n",
    "val = chicago1[~chicago1.index.isin(train.index)].sample(frac = 0.5)\n",
    "test = chicago1[~(chicago1.index.isin(train.index.append(val.index)))]\n",
    "\n",
    "train_y, val_y, test_y = train['usertype'], val['usertype'], test['usertype']\n",
    "model = LogisticRegression()\n",
    "model.fit(train.iloc[:,:3],train_y)"
   ]
  },
  {
   "cell_type": "markdown",
   "metadata": {},
   "source": [
    "### 2.2. Calculating p values"
   ]
  },
  {
   "cell_type": "markdown",
   "metadata": {},
   "source": [
    "Our null hypothesis $H_0$ is the user is a casual (customer) rider.\n",
    "\n",
    "To calculate the p-values, for each casual users in val set, sum the total predicted probabilities from test \n",
    "that are less than a user's predicted probability from val set and divide the sum by the total number of casual users in val set.\n",
    "\n",
    "$$ \n",
    "P_j =\\frac{1}{|S_{2,0}|}|\\{i \\in S_{2,0} : s_i^{(2)}>s_j^{(3)}\\}| \n",
    "$$ where $|\\cdot|$ is the cardinality of a set.\n",
    "\n"
   ]
  },
  {
   "cell_type": "code",
   "execution_count": 35,
   "metadata": {},
   "outputs": [
    {
     "data": {
      "application/vnd.jupyter.widget-view+json": {
       "model_id": "77581b0f8f6d4dbcbcf94846ebf97389",
       "version_major": 2,
       "version_minor": 0
      },
      "text/plain": [
       "  0%|          | 0/14310 [00:00<?, ?it/s]"
      ]
     },
     "metadata": {},
     "output_type": "display_data"
    },
    {
     "data": {
      "image/png": "[encoded data removed]",
      "text/plain": [
       "<Figure size 432x288 with 1 Axes>"
      ]
     },
     "metadata": {
      "needs_background": "light"
     },
     "output_type": "display_data"
    },
    {
     "data": {
      "image/png": "[encoded data removed]",
      "text/plain": [
       "<Figure size 432x288 with 1 Axes>"
      ]
     },
     "metadata": {
      "needs_background": "light"
     },
     "output_type": "display_data"
    }
   ],
   "source": [
    "val_i = model.predict_proba(val.iloc[:,:3])[:,1] #train users\n",
    "test_j = model.predict_proba(test.iloc[:,:3])[:,1] #predicted probabilities for 200 riders\n",
    "val_0 = val[val.usertype == 0]\n",
    "pvals = []\n",
    "for j in tqdm(test_j):\n",
    "    count = np.sum(val_i[np.where(val.usertype==0)] > j)  \n",
    "    pvals.append(count/len(val_0))\n",
    "\n",
    "test_copy = test.reset_index()\n",
    "null_index = test_copy[test_copy['usertype']==0].index.values \n",
    "nonnull_index = test_copy[test_copy['usertype']==1].index.values \n",
    "\n",
    "pvals = np.array(pvals)\n",
    "plt.hist(pvals[null_index])\n",
    "plt.title('Null p values')\n",
    "plt.xlabel('p value')\n",
    "plt.show()\n",
    "\n",
    "plt.hist(pvals[nonnull_index])\n",
    "plt.title('Non-null p values')\n",
    "plt.xlabel('p value')\n",
    "plt.show()"
   ]
  },
  {
   "cell_type": "markdown",
   "metadata": {},
   "source": [
    "For two-tailed test above, the p values under the null distribution are normally distributed, but have a long tail to the right for non null values."
   ]
  },
  {
   "cell_type": "markdown",
   "metadata": {},
   "source": [
    "### 2.3 Running BH algorithm & Finding FDR"
   ]
  },
  {
   "cell_type": "markdown",
   "metadata": {},
   "source": [
    "To control for Type I errors, I will run the Benjamini-Hochberg algorithm to minimize the false discovery rate (FDR). FDR is the ratio of number of false positive FP results to the  number of total positive test results.\n",
    "\n",
    "$$FDP = P(Result=0|Decision=1)= \\frac{FP}{FP+TN}$$\n",
    "$$FDR = E[FDP]$$"
   ]
  },
  {
   "cell_type": "code",
   "execution_count": 36,
   "metadata": {},
   "outputs": [],
   "source": [
    "import statsmodels\n",
    "from statsmodels.stats.multitest import multipletests as bh "
   ]
  },
  {
   "cell_type": "code",
   "execution_count": 37,
   "metadata": {},
   "outputs": [],
   "source": [
    "def report_results(predicted_discoveries, truth):\n",
    "    # input: predicted discoveries: n-dimensional array of 0/1 values where 1 indicates a \"discovery\"\n",
    "    #        truth: n-dimensional array of 0/1 values where 1 indicates a draw from the altertanative\n",
    "    \n",
    "    # populate the following dictionary with COUNTS:\n",
    "    TP_count = np.sum((predicted_discoveries == 1) & (truth == 1))\n",
    "    TN_count = np.sum((predicted_discoveries == 0) & (truth == 0))\n",
    "    FP_count = np.sum((predicted_discoveries == 1) & (truth == 0))\n",
    "    FN_count = np.sum((predicted_discoveries == 0) & (truth == 1))\n",
    "    \n",
    "    results_dictionary = {\"TN_count\": TN_count,\n",
    "                          \"TP_count\": TP_count,\n",
    "                          \"FN_count\": FN_count,\n",
    "                          \"FP_count\": FP_count,\n",
    "                         }\n",
    "    \n",
    "    # this function is defined for you below; this will make your life easier in a few steps.\n",
    "    return results_dictionary\n",
    "\n",
    "def fdp_sens(results_dictionary):\n",
    "    # the results_dictionary object is defined via the output of report_results()\n",
    "    \n",
    "    total_predicted_discoveries = results_dictionary['TP_count'] + results_dictionary['FP_count']\n",
    "    false_discovery_frac = results_dictionary['FP_count']/max(total_predicted_discoveries, 1)\n",
    "    sensitivity = results_dictionary['TP_count']/(results_dictionary['TP_count']+results_dictionary['FN_count'])\n",
    "    \n",
    "    return [false_discovery_frac, sensitivity]\n",
    "\n",
    "def print_false_discovery_fraction(results_dictionary):\n",
    "    # the results_dictionary object is defined via the output of report_results()\n",
    "    \n",
    "    total_predicted_discoveries = results_dictionary.get(\"FP_count\") + results_dictionary.get(\"TP_count\")\n",
    "    false_discovery_frac = results_dictionary.get('FP_count')/total_predicted_discoveries\n",
    "    \n",
    "    # leave this printing functions as they are; you will need them later\n",
    "    print(\"total discoveries: {0}\".format(total_predicted_discoveries))\n",
    "    print(\"fraction of discoveries which were actually false: {0:.3f}\".format(false_discovery_frac))\n",
    "    return total_predicted_discoveries, false_discovery_frac"
   ]
  },
  {
   "cell_type": "markdown",
   "metadata": {},
   "source": [
    "We set the alpha to .2 as a threshold for p-value to control Type I error."
   ]
  },
  {
   "cell_type": "code",
   "execution_count": 38,
   "metadata": {},
   "outputs": [
    {
     "name": "stdout",
     "output_type": "stream",
     "text": [
      "false discovery proportion: 0.043968432919954906, sensitivity: 0.3078878097485704\n"
     ]
    }
   ],
   "source": [
    "bh_decisions = bh(pvals,alpha=.2, method='fdr_bh')\n",
    "bh_decisions = np.array([int(x) for x in bh_decisions[0]])\n",
    "bh_results = report_results(bh_decisions,test['usertype'].values)\n",
    "print('false discovery proportion: {}, sensitivity: {}'.format(fdp_sens(bh_results)[0], fdp_sens(bh_results)[1]))"
   ]
  },
  {
   "cell_type": "markdown",
   "metadata": {},
   "source": [
    "Here, we will use resampling to compute p-values. We will permute the labels and recalculate p-values. Sample 200 sets of test dataset to get 200 false discovery proportions to calculate false discovery rate FDR."
   ]
  },
  {
   "cell_type": "code",
   "execution_count": 39,
   "metadata": {},
   "outputs": [
    {
     "data": {
      "application/vnd.jupyter.widget-view+json": {
       "model_id": "842c29097462441f9482d8f63a44e754",
       "version_major": 2,
       "version_minor": 0
      },
      "text/plain": [
       "  0%|          | 0/200 [00:00<?, ?it/s]"
      ]
     },
     "metadata": {},
     "output_type": "display_data"
    }
   ],
   "source": [
    "fdp_sensitivity = []\n",
    "for _ in tqdm(range(200)):\n",
    "    train = chicago1.sample(frac = 0.6)\n",
    "    val = chicago1[~chicago1.index.isin(train.index)].sample(frac = 0.5)\n",
    "    test = chicago1[~(chicago1.index.isin(train.index.append(val.index)))]\n",
    "\n",
    "    train_y, val_y, test_y = train['usertype'], val['usertype'], test['usertype']\n",
    "    model = LogisticRegression().fit(train.iloc[:,:3],train_y)\n",
    "    \n",
    "    val_i = model.predict_proba(val.iloc[:,:3])[:,1]\n",
    "    test_j = model.predict_proba(test.iloc[:,:3])[:,1]\n",
    "    val_0 = np.count_nonzero(val_y == 0)\n",
    "    pvals = []\n",
    "    val_y_copy = val_y.copy().reset_index()\n",
    "    indices = val_y_copy[val_y_copy['usertype']==0].index.values \n",
    "    for j in test_j:\n",
    "        count = np.sum(val_i[indices] > j)\n",
    "        pvals.append(count/val_0)\n",
    "        \n",
    "    bh_decisions_ = bh(pvals,alpha=.2, method='fdr_bh')\n",
    "    bh_decisions = np.array([int(x) for x in bh_decisions_[0]])\n",
    "    results = fdp_sens(report_results(bh_decisions,test_y.values))\n",
    "    fdp_sensitivity.append(results)"
   ]
  },
  {
   "cell_type": "code",
   "execution_count": 40,
   "metadata": {},
   "outputs": [
    {
     "name": "stdout",
     "output_type": "stream",
     "text": [
      "**Initial FDP and Sensitivity**\n"
     ]
    },
    {
     "data": {
      "text/html": [
       "<div>\n",
       "<style scoped>\n",
       "    .dataframe tbody tr th:only-of-type {\n",
       "        vertical-align: middle;\n",
       "    }\n",
       "\n",
       "    .dataframe tbody tr th {\n",
       "        vertical-align: top;\n",
       "    }\n",
       "\n",
       "    .dataframe thead th {\n",
       "        text-align: right;\n",
       "    }\n",
       "</style>\n",
       "<table border=\"1\" class=\"dataframe\">\n",
       "  <thead>\n",
       "    <tr style=\"text-align: right;\">\n",
       "      <th></th>\n",
       "      <th>Metric</th>\n",
       "      <th>Value</th>\n",
       "    </tr>\n",
       "  </thead>\n",
       "  <tbody>\n",
       "    <tr>\n",
       "      <th>0</th>\n",
       "      <td>FDP</td>\n",
       "      <td>0.04</td>\n",
       "    </tr>\n",
       "    <tr>\n",
       "      <th>1</th>\n",
       "      <td>Sensitivity</td>\n",
       "      <td>0.31</td>\n",
       "    </tr>\n",
       "  </tbody>\n",
       "</table>\n",
       "</div>"
      ],
      "text/plain": [
       "        Metric  Value\n",
       "0          FDP   0.04\n",
       "1  Sensitivity   0.31"
      ]
     },
     "metadata": {},
     "output_type": "display_data"
    },
    {
     "name": "stdout",
     "output_type": "stream",
     "text": [
      "**Avg FDP and Sensitivity**\n"
     ]
    },
    {
     "data": {
      "text/html": [
       "<div>\n",
       "<style scoped>\n",
       "    .dataframe tbody tr th:only-of-type {\n",
       "        vertical-align: middle;\n",
       "    }\n",
       "\n",
       "    .dataframe tbody tr th {\n",
       "        vertical-align: top;\n",
       "    }\n",
       "\n",
       "    .dataframe thead th {\n",
       "        text-align: right;\n",
       "    }\n",
       "</style>\n",
       "<table border=\"1\" class=\"dataframe\">\n",
       "  <thead>\n",
       "    <tr style=\"text-align: right;\">\n",
       "      <th></th>\n",
       "      <th>Metric</th>\n",
       "      <th>Value</th>\n",
       "    </tr>\n",
       "  </thead>\n",
       "  <tbody>\n",
       "    <tr>\n",
       "      <th>0</th>\n",
       "      <td>FDP</td>\n",
       "      <td>0.05</td>\n",
       "    </tr>\n",
       "    <tr>\n",
       "      <th>1</th>\n",
       "      <td>Sensitivity</td>\n",
       "      <td>0.33</td>\n",
       "    </tr>\n",
       "  </tbody>\n",
       "</table>\n",
       "</div>"
      ],
      "text/plain": [
       "        Metric  Value\n",
       "0          FDP   0.05\n",
       "1  Sensitivity   0.33"
      ]
     },
     "metadata": {},
     "output_type": "display_data"
    }
   ],
   "source": [
    "avg_fdp = np.mean(np.array(fdp_sensitivity)[:,0])\n",
    "avg_sensitivity = np.mean(np.array(fdp_sensitivity)[:,1])\n",
    "print(\"**Initial FDP and Sensitivity**\")\n",
    "display(pd.DataFrame({'Metric':['FDP','Sensitivity'],'Value':[fdp_sens(bh_results)[0],fdp_sens(bh_results)[1]]}).round(2))\n",
    "print(\"**Avg FDP and Sensitivity**\")\n",
    "display(pd.DataFrame({'Metric':['FDP','Sensitivity'],'Value':[avg_fdp, avg_sensitivity]}).round(2))"
   ]
  },
  {
   "cell_type": "markdown",
   "metadata": {},
   "source": [
    "**The FDR (avg FDP) remains below alpha (.2).** This is because alpha controls the FDR which is the expected value of FDP. FDR of .05 means  5% of significant tests (null hypothesis rejected) will result in false positives.\n",
    "\n",
    "Remember, using FDR to control Type I error instead of controlling FWER means the test has higher power at the cost of increased number of Type I errors. However for online experimentation settings, bonferroni can be used whereas benjamini-hochberg cannot."
   ]
  },
  {
   "cell_type": "markdown",
   "metadata": {},
   "source": [
    "### 2.4 Improving the Average Sensitivity"
   ]
  },
  {
   "cell_type": "code",
   "execution_count": 41,
   "metadata": {},
   "outputs": [],
   "source": [
    "from sklearn import preprocessing\n",
    "scaler = preprocessing.StandardScaler()"
   ]
  },
  {
   "cell_type": "markdown",
   "metadata": {},
   "source": [
    "We want to control for sensitivity by making the histogram of non-null p-values more skewed to the left (i.e. make p-values smaller). We will do this by adding three new features (`gender`, `birthyear`, `roundtrip`) and perform log transformation on and standardizing `tripduration`."
   ]
  },
  {
   "cell_type": "code",
   "execution_count": 42,
   "metadata": {},
   "outputs": [],
   "source": [
    "X = ['tripduration','starttime', 'stoptime','gender','birthyear','roundtrip']\n",
    "y = 'usertype'\n",
    "\n",
    "chicago2 = chicago[['tripduration','starttime', 'stoptime','gender','birthyear','roundtrip','usertype']]\n",
    "chicago2['starttime'] = chicago2.starttime.dt.hour\n",
    "chicago2['stoptime'] = chicago2.stoptime.dt.hour\n",
    "chicago2['usertype'] = chicago2['usertype'].map({'Customer':0,'Subscriber':1})\n",
    "chicago2['birthyear'] = chicago2['birthyear'].fillna(chicago.birthyear.mean())\n",
    "chicago2['gender'] = chicago2.gender.map({'Male':1,'Female':0}).fillna(2)\n",
    "chicago2['tripduration'] = np.log(chicago2.tripduration)\n",
    "chicago2['tripduration'] = scaler.fit_transform(chicago2[['tripduration']])"
   ]
  },
  {
   "cell_type": "code",
   "execution_count": 43,
   "metadata": {},
   "outputs": [
    {
     "data": {
      "application/vnd.jupyter.widget-view+json": {
       "model_id": "c689daeeb3c642bba23715275646e762",
       "version_major": 2,
       "version_minor": 0
      },
      "text/plain": [
       "  0%|          | 0/14310 [00:00<?, ?it/s]"
      ]
     },
     "metadata": {},
     "output_type": "display_data"
    },
    {
     "data": {
      "image/png": "[encoded data removed]",
      "text/plain": [
       "<Figure size 432x288 with 1 Axes>"
      ]
     },
     "metadata": {
      "needs_background": "light"
     },
     "output_type": "display_data"
    },
    {
     "data": {
      "image/png": "[encoded data removed]",
      "text/plain": [
       "<Figure size 432x288 with 1 Axes>"
      ]
     },
     "metadata": {
      "needs_background": "light"
     },
     "output_type": "display_data"
    },
    {
     "data": {
      "text/plain": [
       "[0.052164166235557856, 0.9998180991359709]"
      ]
     },
     "execution_count": 43,
     "metadata": {},
     "output_type": "execute_result"
    }
   ],
   "source": [
    "train = chicago2.sample(frac = 0.6)\n",
    "val = chicago2[~chicago2.index.isin(train.index)].sample(frac = 0.5)\n",
    "test = chicago2[~(chicago2.index.isin(train.index.append(val.index)))]\n",
    "\n",
    "train_y, val_y, test_y = train['usertype'], val['usertype'], test['usertype']\n",
    "columns = list(val.columns)\n",
    "columns.remove('usertype')\n",
    "model = LogisticRegression()\n",
    "model.fit(train[columns],train_y)\n",
    "\n",
    "\n",
    "val_i = model.predict_proba(val[columns])[:,1]\n",
    "test_j = model.predict_proba(test[columns])[:,1]\n",
    "val_0 = val[val.usertype == 0]\n",
    "indices = np.where(val.usertype==0)\n",
    "pvals = []\n",
    "for j in tqdm(test_j):\n",
    "    count = np.sum(val_i[indices] > j)\n",
    "    pvals.append(count/len(val_0))\n",
    "    \n",
    "test_copy = test.reset_index()\n",
    "null_index = test_copy[test_copy['usertype']==0].index.values \n",
    "nonnull_index = test_copy[test_copy['usertype']==1].index.values \n",
    "\n",
    "pvals = np.array(pvals)\n",
    "plt.hist(pvals[null_index])\n",
    "plt.title('Null p values')\n",
    "plt.xlabel('p value')\n",
    "plt.show()\n",
    "\n",
    "plt.hist(pvals[nonnull_index])\n",
    "plt.title('Non-null p values')\n",
    "plt.xlabel('p value')\n",
    "plt.show()\n",
    "\n",
    "bh_decisions_ = bh(pvals,alpha=.2, method='fdr_bh')\n",
    "bh_decisions = np.array([int(x) for x in bh_decisions_[0]])\n",
    "\n",
    "fdp_sens(report_results(bh_decisions,test_y.values))"
   ]
  },
  {
   "cell_type": "markdown",
   "metadata": {},
   "source": [
    "Sample 200 sets of test dataset to get 200 false discovery proportions to calculate false discovery rate FDR."
   ]
  },
  {
   "cell_type": "code",
   "execution_count": 45,
   "metadata": {},
   "outputs": [
    {
     "data": {
      "application/vnd.jupyter.widget-view+json": {
       "model_id": "48d10f346ac541d698fba53fe97baf6c",
       "version_major": 2,
       "version_minor": 0
      },
      "text/plain": [
       "  0%|          | 0/200 [00:00<?, ?it/s]"
      ]
     },
     "metadata": {},
     "output_type": "display_data"
    },
    {
     "name": "stdout",
     "output_type": "stream",
     "text": [
      "**Initial FDP and Sensitivity**\n"
     ]
    },
    {
     "data": {
      "text/html": [
       "<div>\n",
       "<style scoped>\n",
       "    .dataframe tbody tr th:only-of-type {\n",
       "        vertical-align: middle;\n",
       "    }\n",
       "\n",
       "    .dataframe tbody tr th {\n",
       "        vertical-align: top;\n",
       "    }\n",
       "\n",
       "    .dataframe thead th {\n",
       "        text-align: right;\n",
       "    }\n",
       "</style>\n",
       "<table border=\"1\" class=\"dataframe\">\n",
       "  <thead>\n",
       "    <tr style=\"text-align: right;\">\n",
       "      <th></th>\n",
       "      <th>Metric</th>\n",
       "      <th>Value</th>\n",
       "    </tr>\n",
       "  </thead>\n",
       "  <tbody>\n",
       "    <tr>\n",
       "      <th>0</th>\n",
       "      <td>FDP</td>\n",
       "      <td>0.04</td>\n",
       "    </tr>\n",
       "    <tr>\n",
       "      <th>1</th>\n",
       "      <td>Sensitivity</td>\n",
       "      <td>0.31</td>\n",
       "    </tr>\n",
       "  </tbody>\n",
       "</table>\n",
       "</div>"
      ],
      "text/plain": [
       "        Metric  Value\n",
       "0          FDP   0.04\n",
       "1  Sensitivity   0.31"
      ]
     },
     "metadata": {},
     "output_type": "display_data"
    },
    {
     "name": "stdout",
     "output_type": "stream",
     "text": [
      "**Avg FDP and Sensitivity**\n"
     ]
    },
    {
     "data": {
      "text/html": [
       "<div>\n",
       "<style scoped>\n",
       "    .dataframe tbody tr th:only-of-type {\n",
       "        vertical-align: middle;\n",
       "    }\n",
       "\n",
       "    .dataframe tbody tr th {\n",
       "        vertical-align: top;\n",
       "    }\n",
       "\n",
       "    .dataframe thead th {\n",
       "        text-align: right;\n",
       "    }\n",
       "</style>\n",
       "<table border=\"1\" class=\"dataframe\">\n",
       "  <thead>\n",
       "    <tr style=\"text-align: right;\">\n",
       "      <th></th>\n",
       "      <th>Metric</th>\n",
       "      <th>Value</th>\n",
       "    </tr>\n",
       "  </thead>\n",
       "  <tbody>\n",
       "    <tr>\n",
       "      <th>0</th>\n",
       "      <td>FDP</td>\n",
       "      <td>0.05</td>\n",
       "    </tr>\n",
       "    <tr>\n",
       "      <th>1</th>\n",
       "      <td>Sensitivity</td>\n",
       "      <td>1.00</td>\n",
       "    </tr>\n",
       "  </tbody>\n",
       "</table>\n",
       "</div>"
      ],
      "text/plain": [
       "        Metric  Value\n",
       "0          FDP   0.05\n",
       "1  Sensitivity   1.00"
      ]
     },
     "metadata": {},
     "output_type": "display_data"
    }
   ],
   "source": [
    "fdp_sensitivity = []\n",
    "for _ in tqdm(range(200)):\n",
    "    train = chicago2.sample(frac = 0.6)\n",
    "    val = chicago2[~chicago2.index.isin(train.index)].sample(frac = 0.5)\n",
    "    test = chicago2[~(chicago2.index.isin(train.index.append(val.index)))]\n",
    "\n",
    "    #fit logistic model\n",
    "    train_y, val_y, test_y = train['usertype'], val['usertype'], test['usertype']\n",
    "    columns = list(val.columns)\n",
    "    columns.remove('usertype')\n",
    "    model = LogisticRegression()\n",
    "    model.fit(train[columns],train_y)\n",
    "\n",
    "    #calculate p-values\n",
    "    val_i = model.predict_proba(val[columns])[:,1]\n",
    "    test_j = model.predict_proba(test[columns])[:,1]\n",
    "    val_0 = val[val.usertype == 0]\n",
    "    pvals = []\n",
    "    indices = np.where(val.usertype==0)\n",
    "    for j in (test_j):\n",
    "        count = np.sum(val_i[indices] > j)\n",
    "        pvals.append(count/len(val_0))\n",
    "\n",
    "    #run benjamini-hochberg algorithm   \n",
    "    bh_decisions_ = bh(pvals,alpha=.2, method='fdr_bh')\n",
    "    bh_decisions = np.array([int(x) for x in bh_decisions_[0]])\n",
    "    results = fdp_sens(report_results(bh_decisions,test_y.values))\n",
    "    fdp_sensitivity.append(results)\n",
    "    \n",
    "avg_fdp = np.mean(np.array(fdp_sensitivity)[:,0])\n",
    "avg_sensitivity = np.mean(np.array(fdp_sensitivity)[:,1])\n",
    "print( \"**Initial FDP and Sensitivity**\")\n",
    "display(pd.DataFrame({'Metric':['FDP','Sensitivity'],'Value':[fdp_sens(bh_results)[0],fdp_sens(bh_results)[1]]}).round(2))\n",
    "print( \"**Avg FDP and Sensitivity**\")\n",
    "display(pd.DataFrame({'Metric':['FDP','Sensitivity'],'Value':[avg_fdp, avg_sensitivity]}).round(2))"
   ]
  },
  {
   "cell_type": "markdown",
   "metadata": {},
   "source": [
    "**The new average sensitivity or percentage of true positives is now 1.**  The largest factor that changed the sensitivity was gender."
   ]
  },
  {
   "cell_type": "markdown",
   "metadata": {},
   "source": [
    "### 2.5 Final results"
   ]
  },
  {
   "cell_type": "code",
   "execution_count": 46,
   "metadata": {},
   "outputs": [
    {
     "name": "stdout",
     "output_type": "stream",
     "text": [
      "Number of rejected null: 11484, Total tests: 14310, Percentage: 0.8025157232704403\n"
     ]
    }
   ],
   "source": [
    "print('Number of rejected null: {}, Total tests: {}, Percentage: {}'.format(sum(bh_decisions_[1]<.2),len(bh_decisions),sum(bh_decisions_[1]<.2)/len(bh_decisions)))\n",
    " "
   ]
  },
  {
   "cell_type": "markdown",
   "metadata": {},
   "source": [
    "**For alpha (.2) controlled FDR (.05), 11484 out of 14310 of tests are significant. No more than 575 (5% of 11484) of bike users tested as subscribers are likely to be false discoveries.**"
   ]
  },
  {
   "cell_type": "code",
   "execution_count": 47,
   "metadata": {},
   "outputs": [
    {
     "name": "stdout",
     "output_type": "stream",
     "text": [
      "Real Percentage of Subscriber Riders: 0.76680642907058\n"
     ]
    }
   ],
   "source": [
    "print('Real Percentage of Subscriber Riders: {}'.format(sum(test.usertype)/len(test)))\n"
   ]
  },
  {
   "cell_type": "markdown",
   "metadata": {},
   "source": [
    "## 3. Gaussian Mixture Models"
   ]
  },
  {
   "cell_type": "markdown",
   "metadata": {},
   "source": [
    "### 3.1 Reason behind difference in distribution of trip durations between subscribers & nonsubscribers\n",
    "\n",
    "Based on all the analysis done so far, the rest of the project will be based on the assumption that the main factor influencing the length of the trip is whether or not a customer is a subscriber. The reason is subscribers probably use the bikes as their main form of transportation, so it will be more likely for them to use it for both short and long distances, with more frequency. Meanwhile, non-subscribers most likely use the bike sharing system when they are on vacation or riding the bike for leisure. This means non-subscribers could end up spending more time, enjoying the bike ride rather than seeing it as a means from point A to point B. Earlier exploratory analysis explored the trip durations of most popular routes. Most of the popular routes were scenic areas (lake, park, memorials). I found that a key indicator was user type, with most of riders as customers (non-subscribers). This points out for the hidden structure in the distribution of trip duration for each city dataset, **customers and subscribers will differentiated by separate latent Gaussian distributions due to their differences in behavior.** Using Gaussian mixture models to model different classes of riders can also help inform decisions such as what is the better choice for the type of scooter a bike share company should use."
   ]
  },
  {
   "cell_type": "markdown",
   "metadata": {},
   "source": [
    "### 3.2 Fitting the model"
   ]
  },
  {
   "cell_type": "markdown",
   "metadata": {},
   "source": [
    "The Gaussian Mixture model uses the EM algorithm, which iteratively finds the maximum likelihood estimates of parameters of the Gaussian distributions for subscribers and customers (non-subscribers)."
   ]
  },
  {
   "cell_type": "code",
   "execution_count": null,
   "metadata": {},
   "outputs": [],
   "source": [
    "from sklearn.mixture import GaussianMixture"
   ]
  },
  {
   "cell_type": "code",
   "execution_count": null,
   "metadata": {},
   "outputs": [
    {
     "data": {
      "text/plain": [
       "Text(0.5, 1.0, 'Real Data Trip Duration')"
      ]
     },
     "execution_count": 116,
     "metadata": {},
     "output_type": "execute_result"
    },
    {
     "data": {
      "image/png": "[encoded data removed]",
      "text/plain": [
       "<Figure size 432x288 with 1 Axes>"
      ]
     },
     "metadata": {
      "needs_background": "light"
     },
     "output_type": "display_data"
    }
   ],
   "source": [
    "sns.distplot((chicago.tripduration), kde=False)\n",
    "plt.title('Real Data Trip Duration')"
   ]
  },
  {
   "cell_type": "markdown",
   "metadata": {},
   "source": [
    "We will limit trip durations to be less than 60 by removing outliers."
   ]
  },
  {
   "cell_type": "code",
   "execution_count": null,
   "metadata": {},
   "outputs": [],
   "source": [
    "chicago1h = chicago[chicago.tripduration < 60]  \n",
    "chicago1hduration = chicago1h['tripduration'].values"
   ]
  },
  {
   "cell_type": "code",
   "execution_count": null,
   "metadata": {},
   "outputs": [
    {
     "data": {
      "text/plain": [
       "Text(0.5, 1.0, 'Real Data Trip Duration')"
      ]
     },
     "execution_count": 118,
     "metadata": {},
     "output_type": "execute_result"
    },
    {
     "data": {
      "image/png": "[encoded data removed]",
      "text/plain": [
       "<Figure size 432x288 with 1 Axes>"
      ]
     },
     "metadata": {
      "needs_background": "light"
     },
     "output_type": "display_data"
    }
   ],
   "source": [
    "sns.distplot(chicago1hduration, kde=False, label=\"Real Data\")\n",
    "plt.title('Real Data Trip Duration')"
   ]
  },
  {
   "cell_type": "markdown",
   "metadata": {},
   "source": [
    "We will also arbitrarily initialize the model with weights .9, .1 and mean 100, 10 for the two Gaussian distributions, respectively."
   ]
  },
  {
   "cell_type": "code",
   "execution_count": null,
   "metadata": {},
   "outputs": [
    {
     "data": {
      "image/png": "[encoded data removed]",
      "text/plain": [
       "<Figure size 432x288 with 1 Axes>"
      ]
     },
     "metadata": {
      "needs_background": "light"
     },
     "output_type": "display_data"
    }
   ],
   "source": [
    "data = chicago1hduration.reshape(-1,1)\n",
    " \n",
    "#Fit Gaussian Mixture Model\n",
    "gm = GaussianMixture(n_components=2,max_iter=100,weights_init=np.array([.9, .1]),means_init=np.array([[100],[10]]), n_init=20).fit(data)\n",
    "\n",
    "#Parameter results\n",
    "pi_0, pi_1 = gm.weights_[0], gm.weights_[1]\n",
    "sigma_0, sigma_1 = gm.covariances_[0]**.5, gm.covariances_[1]**.5\n",
    "mu_0, mu_1 = gm.means_[0], gm.means_[1]\n",
    "\n",
    "\n",
    "\n",
    "# Create random_state so any random operation always returns the same result.\n",
    "random_state = np.random.RandomState(1)\n",
    "\n",
    "# Generate some data using the GMM parameters we just estimated above.\n",
    "num_trips = chicago1hduration.shape[0]\n",
    "# First let's create an array of bernouilli samples with probability of success pi_1.\n",
    "dist_number = random_state.binomial(1, pi_1, size=num_trips)\n",
    "# Now let's create two arrays of size n that hold data from the two Gaussian distributions\n",
    "# we estimated.\n",
    "dist_0_duration = random_state.randn(num_trips) * sigma_0 + mu_0\n",
    "dist_1_duration = random_state.randn(num_trips) * sigma_1 + mu_1\n",
    "# Now use the original array of bernouilli samples to subsample the two Gaussian arrays.\n",
    "generated_duration = np.zeros(num_trips)\n",
    "generated_duration[dist_number == 0] = dist_0_duration[0][dist_number == 0]\n",
    "generated_duration[dist_number == 1] = dist_1_duration[0][dist_number == 1]\n",
    "\n",
    "# Plot the generated data.\n",
    "sns.distplot(generated_duration, kde=False, label=\"Generated Data\")  \n",
    "# Plot the real duration.\n",
    "sns.distplot(chicago1hduration, kde=False, label=\"Real Data\")  \n",
    "# Add the legend to the plot.\n",
    "plt.legend();"
   ]
  },
  {
   "cell_type": "code",
   "execution_count": null,
   "metadata": {},
   "outputs": [
    {
     "name": "stdout",
     "output_type": "stream",
     "text": [
      "mu_0:[23.71261359], mu_1:[9.39342842], sigma_0:[10.46654073], sigma_1:[4.73428748]\n"
     ]
    }
   ],
   "source": [
    "print('mu_0:{}, mu_1:{}, sigma_0:{}, sigma_1:{}'.format(mu_0, mu_1, sigma_0[0], sigma_1[0]))"
   ]
  },
  {
   "cell_type": "markdown",
   "metadata": {},
   "source": [
    "### 3.3 Given the output of EM, which of the distributions captures the behavior of the subscribed customers?\n",
    "\n",
    "The model with  mu_1 = 9.39 sigma_1 = 4.73 is the subscribers. We know this because subscribers take shorter trips in general than customers. Next, we will use the posteriors of the distribution of subscribed users to create classifiers to classify whether a customer is a subscriber or not.\n"
   ]
  },
  {
   "cell_type": "markdown",
   "metadata": {},
   "source": [
    "### 3.4 Classifier to classify customers as subscribers\n",
    "Here I design a classifier which classifies a customer as a Subscriber if their posterior prob > 0.5. The error of this classifier given the Subscriber User Types in the each of the three cities datasets are shown below:"
   ]
  },
  {
   "cell_type": "code",
   "execution_count": null,
   "metadata": {},
   "outputs": [
    {
     "data": {
      "text/plain": [
       "array([[7.25075661e-01, 9.99999976e-01, 9.99999988e-01, ...,\n",
       "        1.35911265e-02, 5.22897197e-11, 9.99950193e-01]])"
      ]
     },
     "execution_count": 121,
     "metadata": {},
     "output_type": "execute_result"
    }
   ],
   "source": [
    "gaussian_prob_0 = (np.exp(-(chicago1hduration - mu_0) ** 2 / (2 *\n",
    "sigma_0)) / (np.sqrt(2 * np.pi) * sigma_0))\n",
    "\n",
    "gaussian_prob_1 = (np.exp(-(chicago1hduration - mu_1) ** 2 / (2 *\n",
    "sigma_1)) / (np.sqrt(2 * np.pi) * sigma_1))\n",
    "\n",
    "normalizing_factor = pi_0 * gaussian_prob_0 + pi_1 * gaussian_prob_1\n",
    "\n",
    "posteriors = pi_1 * gaussian_prob_1 / normalizing_factor\n",
    "posteriors"
   ]
  },
  {
   "cell_type": "code",
   "execution_count": null,
   "metadata": {},
   "outputs": [
    {
     "name": "stdout",
     "output_type": "stream",
     "text": [
      "Chicago Classifier error: 0.2435639638619049\n"
     ]
    }
   ],
   "source": [
    "classified_subscribers = posteriors > 0.5\n",
    "error = classified_subscribers[0] != chicago1h.usertype.map({'Customer':0,'Subscriber':1}).values\n",
    "print('Chicago Classifier error:',np.sum(error)/len(error))"
   ]
  },
  {
   "cell_type": "code",
   "execution_count": null,
   "metadata": {},
   "outputs": [
    {
     "name": "stdout",
     "output_type": "stream",
     "text": [
      "NY Classifier error: 0.2584115934414746\n"
     ]
    }
   ],
   "source": [
    "gaussian_prob_0 = (np.exp(-(ny[ny.tripduration < 60].tripduration.values - mu_0) ** 2 / (2 *\n",
    "sigma_0)) / (np.sqrt(2 * np.pi) * sigma_0))\n",
    "\n",
    "gaussian_prob_1 = (np.exp(-(ny[ny.tripduration < 60].tripduration.values - mu_1) ** 2 / (2 *\n",
    "sigma_1)) / (np.sqrt(2 * np.pi) * sigma_1))\n",
    "\n",
    "normalizing_factor = pi_0 * gaussian_prob_0 + pi_1 * gaussian_prob_1\n",
    "\n",
    "posteriors = pi_1 * gaussian_prob_1 / normalizing_factor\n",
    "\n",
    "subscribers_ny = posteriors > 0.5\n",
    "error = subscribers_ny[0] != ny[ny.tripduration < 60].usertype.map({'Customer':0,'Subscriber':1}).values\n",
    "print('NY Classifier error:',np.sum(error)/len(error))"
   ]
  },
  {
   "cell_type": "code",
   "execution_count": null,
   "metadata": {},
   "outputs": [
    {
     "name": "stdout",
     "output_type": "stream",
     "text": [
      "DC Classifier error: 0.24324494750449285\n"
     ]
    }
   ],
   "source": [
    "gaussian_prob_0 = (np.exp(-(dc[dc['Duration (min)'] < 60]['Duration (min)'].values - mu_0) ** 2 / (2 *\n",
    "sigma_0)) / (np.sqrt(2 * np.pi) * sigma_0))\n",
    "\n",
    "gaussian_prob_1 = (np.exp(-(dc[dc['Duration (min)'] < 60]['Duration (min)'].values - mu_1) ** 2 / (2 *\n",
    "sigma_1)) / (np.sqrt(2 * np.pi) * sigma_1))\n",
    "\n",
    "normalizing_factor = pi_0 * gaussian_prob_0 + pi_1 * gaussian_prob_1\n",
    "\n",
    "posteriors = pi_1 * gaussian_prob_1 / normalizing_factor\n",
    "\n",
    "subscribers_dc = posteriors > 0.5\n",
    "error = subscribers_dc[0] != dc[dc['Duration (min)'] < 60]['Member Type'].map({'Casual':0,'Registered':1}).values \n",
    "print('DC Classifier error:',np.sum(error)/len(error))"
   ]
  },
  {
   "cell_type": "markdown",
   "metadata": {},
   "source": [
    "**The classifier has the same performance on NY and DC datasets. The error rates stays around 24 to 25%, i.e. accuracies between 75-76%.**"
   ]
  },
  {
   "cell_type": "markdown",
   "metadata": {},
   "source": [
    "## 4. Causality and Experimental Design"
   ]
  },
  {
   "cell_type": "code",
   "execution_count": null,
   "metadata": {},
   "outputs": [],
   "source": [
    "day = pd.read_csv(r\"/Users/kyjurou/Documents/Courses/bikeshare_proj/bikeshare/day.csv\")\n",
    "import statsmodels.api as sm"
   ]
  },
  {
   "cell_type": "code",
   "execution_count": null,
   "metadata": {},
   "outputs": [
    {
     "data": {
      "text/html": [
       "<div>\n",
       "<style scoped>\n",
       "    .dataframe tbody tr th:only-of-type {\n",
       "        vertical-align: middle;\n",
       "    }\n",
       "\n",
       "    .dataframe tbody tr th {\n",
       "        vertical-align: top;\n",
       "    }\n",
       "\n",
       "    .dataframe thead th {\n",
       "        text-align: right;\n",
       "    }\n",
       "</style>\n",
       "<table border=\"1\" class=\"dataframe\">\n",
       "  <thead>\n",
       "    <tr style=\"text-align: right;\">\n",
       "      <th></th>\n",
       "      <th>instant</th>\n",
       "      <th>dteday</th>\n",
       "      <th>season</th>\n",
       "      <th>yr</th>\n",
       "      <th>mnth</th>\n",
       "      <th>holiday</th>\n",
       "      <th>weekday</th>\n",
       "      <th>workingday</th>\n",
       "      <th>weathersit</th>\n",
       "      <th>temp</th>\n",
       "      <th>atemp</th>\n",
       "      <th>hum</th>\n",
       "      <th>windspeed</th>\n",
       "      <th>casual</th>\n",
       "      <th>registered</th>\n",
       "      <th>cnt</th>\n",
       "    </tr>\n",
       "  </thead>\n",
       "  <tbody>\n",
       "    <tr>\n",
       "      <th>0</th>\n",
       "      <td>1</td>\n",
       "      <td>2011-01-01</td>\n",
       "      <td>1</td>\n",
       "      <td>0</td>\n",
       "      <td>1</td>\n",
       "      <td>0</td>\n",
       "      <td>6</td>\n",
       "      <td>0</td>\n",
       "      <td>2</td>\n",
       "      <td>0.344167</td>\n",
       "      <td>0.363625</td>\n",
       "      <td>0.805833</td>\n",
       "      <td>0.160446</td>\n",
       "      <td>331</td>\n",
       "      <td>654</td>\n",
       "      <td>985</td>\n",
       "    </tr>\n",
       "    <tr>\n",
       "      <th>1</th>\n",
       "      <td>2</td>\n",
       "      <td>2011-01-02</td>\n",
       "      <td>1</td>\n",
       "      <td>0</td>\n",
       "      <td>1</td>\n",
       "      <td>0</td>\n",
       "      <td>0</td>\n",
       "      <td>0</td>\n",
       "      <td>2</td>\n",
       "      <td>0.363478</td>\n",
       "      <td>0.353739</td>\n",
       "      <td>0.696087</td>\n",
       "      <td>0.248539</td>\n",
       "      <td>131</td>\n",
       "      <td>670</td>\n",
       "      <td>801</td>\n",
       "    </tr>\n",
       "    <tr>\n",
       "      <th>2</th>\n",
       "      <td>3</td>\n",
       "      <td>2011-01-03</td>\n",
       "      <td>1</td>\n",
       "      <td>0</td>\n",
       "      <td>1</td>\n",
       "      <td>0</td>\n",
       "      <td>1</td>\n",
       "      <td>1</td>\n",
       "      <td>1</td>\n",
       "      <td>0.196364</td>\n",
       "      <td>0.189405</td>\n",
       "      <td>0.437273</td>\n",
       "      <td>0.248309</td>\n",
       "      <td>120</td>\n",
       "      <td>1229</td>\n",
       "      <td>1349</td>\n",
       "    </tr>\n",
       "    <tr>\n",
       "      <th>3</th>\n",
       "      <td>4</td>\n",
       "      <td>2011-01-04</td>\n",
       "      <td>1</td>\n",
       "      <td>0</td>\n",
       "      <td>1</td>\n",
       "      <td>0</td>\n",
       "      <td>2</td>\n",
       "      <td>1</td>\n",
       "      <td>1</td>\n",
       "      <td>0.200000</td>\n",
       "      <td>0.212122</td>\n",
       "      <td>0.590435</td>\n",
       "      <td>0.160296</td>\n",
       "      <td>108</td>\n",
       "      <td>1454</td>\n",
       "      <td>1562</td>\n",
       "    </tr>\n",
       "    <tr>\n",
       "      <th>4</th>\n",
       "      <td>5</td>\n",
       "      <td>2011-01-05</td>\n",
       "      <td>1</td>\n",
       "      <td>0</td>\n",
       "      <td>1</td>\n",
       "      <td>0</td>\n",
       "      <td>3</td>\n",
       "      <td>1</td>\n",
       "      <td>1</td>\n",
       "      <td>0.226957</td>\n",
       "      <td>0.229270</td>\n",
       "      <td>0.436957</td>\n",
       "      <td>0.186900</td>\n",
       "      <td>82</td>\n",
       "      <td>1518</td>\n",
       "      <td>1600</td>\n",
       "    </tr>\n",
       "  </tbody>\n",
       "</table>\n",
       "</div>"
      ],
      "text/plain": [
       "   instant      dteday  season  yr  mnth  holiday  weekday  workingday  \\\n",
       "0        1  2011-01-01       1   0     1        0        6           0   \n",
       "1        2  2011-01-02       1   0     1        0        0           0   \n",
       "2        3  2011-01-03       1   0     1        0        1           1   \n",
       "3        4  2011-01-04       1   0     1        0        2           1   \n",
       "4        5  2011-01-05       1   0     1        0        3           1   \n",
       "\n",
       "   weathersit      temp     atemp       hum  windspeed  casual  registered  \\\n",
       "0           2  0.344167  0.363625  0.805833   0.160446     331         654   \n",
       "1           2  0.363478  0.353739  0.696087   0.248539     131         670   \n",
       "2           1  0.196364  0.189405  0.437273   0.248309     120        1229   \n",
       "3           1  0.200000  0.212122  0.590435   0.160296     108        1454   \n",
       "4           1  0.226957  0.229270  0.436957   0.186900      82        1518   \n",
       "\n",
       "    cnt  \n",
       "0   985  \n",
       "1   801  \n",
       "2  1349  \n",
       "3  1562  \n",
       "4  1600  "
      ]
     },
     "execution_count": 6,
     "metadata": {},
     "output_type": "execute_result"
    }
   ],
   "source": [
    "day.head()"
   ]
  },
  {
   "cell_type": "code",
   "execution_count": 7,
   "metadata": {},
   "outputs": [
    {
     "data": {
      "text/plain": [
       "1    463\n",
       "2    247\n",
       "3     21\n",
       "Name: weathersit, dtype: int64"
      ]
     },
     "execution_count": 7,
     "metadata": {},
     "output_type": "execute_result"
    }
   ],
   "source": [
    "day.weathersit.value_counts()"
   ]
  },
  {
   "cell_type": "markdown",
   "metadata": {},
   "source": [
    "`Weathersit`\n",
    "\n",
    "1: Clear, Few clouds, Partly cloudy, Partly cloudy\\\n",
    "2: Mist + Cloudy, Mist + Broken clouds, Mist + Few clouds, Mist\\\n",
    "3: Light Snow, Light Rain + Thunderstorm + Scattered clouds, Light Rain + Scattered clouds\\"
   ]
  },
  {
   "cell_type": "markdown",
   "metadata": {},
   "source": [
    "### 4.1.1 The causal model"
   ]
  },
  {
   "attachments": {
    "image.png": {
     "image/png": "[encoded data removed]"
    }
   },
   "cell_type": "markdown",
   "metadata": {},
   "source": [
    "![image.png](attachment:image.png)"
   ]
  },
  {
   "cell_type": "markdown",
   "metadata": {},
   "source": [
    "**Assumptions:**\n",
    "\n",
    "\n",
    "We know X* is `weathersit`, X is `temperature`, Z is `humidity`, and Y is bike rentals `cnt`.\n",
    "* Instrumental variable is independent of predictor variable.\n",
    "    * The correlation between `humidity` and bike rentals `cnt` is 0.100 which is extremely weak.\n",
    "* Instrumental variable is correlated with X*.\n",
    "    * The correlation between `humidity` and `weathersit` is 0.59\n",
    "* X*, or weathersit, is correlated with our predictor variable.\n",
    "    * The correlation between `weathersit` and bike rentals `cnt` is 0.29.\n",
    "* X, or temperature, is correlated with our predictor variable.\n",
    "    * The correlation between `temperature` and bike rentals `cnt` is fairly strong, 0.63.\n",
    "* Weather and temperature shouldn't be correlated.\n",
    "    * The correlation between `weathersit` and `temperature` is 0.12"
   ]
  },
  {
   "cell_type": "code",
   "execution_count": 127,
   "metadata": {},
   "outputs": [
    {
     "data": {
      "text/html": [
       "<div>\n",
       "<style scoped>\n",
       "    .dataframe tbody tr th:only-of-type {\n",
       "        vertical-align: middle;\n",
       "    }\n",
       "\n",
       "    .dataframe tbody tr th {\n",
       "        vertical-align: top;\n",
       "    }\n",
       "\n",
       "    .dataframe thead th {\n",
       "        text-align: right;\n",
       "    }\n",
       "</style>\n",
       "<table border=\"1\" class=\"dataframe\">\n",
       "  <thead>\n",
       "    <tr style=\"text-align: right;\">\n",
       "      <th></th>\n",
       "      <th>weathersit</th>\n",
       "      <th>temp</th>\n",
       "      <th>hum</th>\n",
       "      <th>cnt</th>\n",
       "    </tr>\n",
       "  </thead>\n",
       "  <tbody>\n",
       "    <tr>\n",
       "      <th>weathersit</th>\n",
       "      <td>1.000000</td>\n",
       "      <td>-0.120602</td>\n",
       "      <td>0.591045</td>\n",
       "      <td>-0.297391</td>\n",
       "    </tr>\n",
       "    <tr>\n",
       "      <th>temp</th>\n",
       "      <td>-0.120602</td>\n",
       "      <td>1.000000</td>\n",
       "      <td>0.126963</td>\n",
       "      <td>0.627494</td>\n",
       "    </tr>\n",
       "    <tr>\n",
       "      <th>hum</th>\n",
       "      <td>0.591045</td>\n",
       "      <td>0.126963</td>\n",
       "      <td>1.000000</td>\n",
       "      <td>-0.100659</td>\n",
       "    </tr>\n",
       "    <tr>\n",
       "      <th>cnt</th>\n",
       "      <td>-0.297391</td>\n",
       "      <td>0.627494</td>\n",
       "      <td>-0.100659</td>\n",
       "      <td>1.000000</td>\n",
       "    </tr>\n",
       "  </tbody>\n",
       "</table>\n",
       "</div>"
      ],
      "text/plain": [
       "            weathersit      temp       hum       cnt\n",
       "weathersit    1.000000 -0.120602  0.591045 -0.297391\n",
       "temp         -0.120602  1.000000  0.126963  0.627494\n",
       "hum           0.591045  0.126963  1.000000 -0.100659\n",
       "cnt          -0.297391  0.627494 -0.100659  1.000000"
      ]
     },
     "execution_count": 127,
     "metadata": {},
     "output_type": "execute_result"
    }
   ],
   "source": [
    "day[['weathersit', 'temp', 'hum','cnt']].corr()"
   ]
  },
  {
   "cell_type": "markdown",
   "metadata": {},
   "source": [
    "### 4.1.2 2 Stage Least Squares"
   ]
  },
  {
   "cell_type": "markdown",
   "metadata": {},
   "source": [
    "**The 2SLS procedure works in the following way:**\n",
    "\n",
    "**We wish to estimate the causal effect of weather on the number of bikes rented. We cannot assume that correlation between weather and bike rentals implies causation due to other confounding factors. However, we can attempt to estimate this effect through an instrumental variable, humidity. If humidity is sufficiently correlated with weather, the we can use this variable to evaluate the effect since we can assume humidity does not directly affect the number of bike rentals. In 2SLS, we essentially run OLS twice. In the first stage, we find weather through humidity and temperature. In the second stage, we use these weather predictions as well as temperature to predict the number of bike rentals. The coefficients of the weather variable in the second stage can be used to describe its causal effect on bike rentals.**"
   ]
  },
  {
   "cell_type": "code",
   "execution_count": 128,
   "metadata": {},
   "outputs": [
    {
     "data": {
      "text/plain": [
       "-1057.298164468053"
      ]
     },
     "execution_count": 128,
     "metadata": {},
     "output_type": "execute_result"
    }
   ],
   "source": [
    "# First Stage\n",
    "weathersit = day['weathersit'].values\n",
    "stage1_features = day[['hum','temp']].values\n",
    "stage1_features_w_const = sm.add_constant(stage1_features)\n",
    "stage1_ols = sm.OLS(weathersit, stage1_features_w_const)\n",
    "stage1_ols_results = (stage1_ols.fit()).params # predicted coefficients\n",
    "\n",
    "# Get predictions for weathersit\n",
    "weather_predicted = stage1_ols_results[0] + stage1_ols_results[1] * day['hum'].values + stage1_ols_results[2] * day['temp'].values\n",
    "\n",
    "# Get predictions for weathersit\n",
    "weather_predicted = stage1_ols_results[0] + stage1_ols_results[1] * day['hum'].values + stage1_ols_results[2] * day['temp'].values\n",
    "\n",
    "# Second Stage\n",
    "num_rentals = day['cnt'].values \n",
    "stage2_features = np.concatenate([weather_predicted.reshape(len(weather_predicted),1), \n",
    "                                  day['temp'].values.reshape(len(weather_predicted),1)],axis=1) \n",
    "stage2_features_w_const = sm.add_constant(stage2_features)\n",
    "stage2_model = sm.OLS(num_rentals, stage2_features_w_const) \n",
    "stage2ols_results = (stage2_model.fit()).params \n",
    "alpha_2SLS = stage2ols_results[1]\n",
    "alpha_2SLS"
   ]
  },
  {
   "cell_type": "markdown",
   "metadata": {},
   "source": [
    "**We see that the coefficient is -1057, which means that there's a strong negative affect of weather on bike rentals. Specifically, for every increase of 1 in weather situation, we see a decrease of -1057 on bike rentals.**"
   ]
  },
  {
   "cell_type": "code",
   "execution_count": 129,
   "metadata": {},
   "outputs": [
    {
     "data": {
      "text/plain": [
       "-303.37901939504644"
      ]
     },
     "execution_count": 129,
     "metadata": {},
     "output_type": "execute_result"
    }
   ],
   "source": [
    "weathersit = day['weathersit'].values\n",
    "stage1_features = day[['hum','temp']].values\n",
    "stage1_features_w_const = sm.add_constant(stage1_features)\n",
    "stage1_ols = sm.OLS(weathersit, stage1_features_w_const)\n",
    "stage1_ols_results = (stage1_ols.fit()).params\n",
    "predictions = stage1_ols_results[0] + stage1_ols_results[1] * day['hum'].values + stage1_ols_results[2] * day['temp'].values\n",
    "\n",
    "casual_rentals = day['casual'].values\n",
    "stage2_features = np.concatenate([predictions.reshape(len(predictions),1), day['temp'].values.reshape(len(predictions),1)],axis=1)\n",
    "stage2_features_w_const = sm.add_constant(stage2_features)\n",
    "stage2_model = sm.OLS(casual_rentals, stage2_features_w_const)\n",
    "stage2ols_results = (stage2_model.fit()).params\n",
    "alpha_2SLS = stage2ols_results[1]\n",
    "alpha_2SLS\n"
   ]
  },
  {
   "cell_type": "code",
   "execution_count": 130,
   "metadata": {},
   "outputs": [
    {
     "data": {
      "text/plain": [
       "-753.9191450730061"
      ]
     },
     "execution_count": 130,
     "metadata": {},
     "output_type": "execute_result"
    }
   ],
   "source": [
    "weathersit = day['weathersit'].values\n",
    "stage1_features = day[['hum','temp']].values\n",
    "stage1_features_w_const = sm.add_constant(stage1_features)\n",
    "stage1_ols = sm.OLS(weathersit, stage1_features_w_const)\n",
    "stage1_ols_results = (stage1_ols.fit()).params \n",
    "predictions = stage1_ols_results[0] + stage1_ols_results[1] * day['hum'].values + stage1_ols_results[2] * day['temp'].values\n",
    "\n",
    "registered_rentals = day['registered'].values\n",
    "stage2_features = np.concatenate([predictions.reshape(len(predictions),1), day['temp'].values.reshape(len(predictions),1)],axis=1)\n",
    "stage2_features_w_const = sm.add_constant(stage2_features) \n",
    "stage2_model = sm.OLS(registered_rentals, stage2_features_w_const)\n",
    "stage2ols_results = (stage2_model.fit()).params\n",
    "alpha_2SLS = stage2ols_results[1]\n",
    "alpha_2SLS"
   ]
  },
  {
   "cell_type": "markdown",
   "metadata": {},
   "source": [
    "**For casual users, the coefficient is -303, meaning for every increase of 1 in weather situation, we lose 303 casual bike rentals. For subscribers, the coefficient is -754, meaning for every increase of 1 in weather situation, we lose 754 subscriber rentals.**"
   ]
  },
  {
   "cell_type": "markdown",
   "metadata": {},
   "source": [
    "### 4.1.3 Summary & Future Exploration"
   ]
  },
  {
   "cell_type": "markdown",
   "metadata": {},
   "source": [
    "In this part, I wanted to estimate the causal effect of weather situation on the number of bike rentals which can be useful for predicting the number of bike rentals on given day with this variable. 2SLS is used because there are confounding variables (remember, correlation does not equal causation). Using an instrumental variable provides pseudo-randomization. Using humidity as our instrumental variable in 2SLS, I found that weather situation negatively affects the number of bike rentals.\n",
    "\n",
    "\n",
    "1. For casual (non-subscriber) users, the effect of adverse weather is much lower than for subscribers. One possible reason is that casual users may be less accustomed to riding in bad weather conditions so they don't really know how to manage riding in bad weather, or possibly because they don't rely on bikes so they can deal with not riding every once in a while. However, for subscribers, since bikes are probably a main mode of transportation; they are also likely to be fully aware of the inconvenience and consequences of riding in bad weather. In weather situations light rain, they are more likely to rely on the bikes for riding to and from work as compared to a casual (non-subscriber) rider.\n",
    "\n",
    "\n",
    "2. 2SLS is used to control for confounding variables. Because the number of bike rentals can be influenced by several factors, only choosing one is likely to include the confounding variables. For instance, another potential confounding variable is socioeconomic background of riders; there are riders who save money riding a bike instead of driving a car.  A variable such as the use case of the bike  (leisure, business) can also affect the number of bike rentals.\n",
    "\n",
    "\n",
    "For future analysis, I would like to use data on the location of bikes docks and how they are categorized (residential, leisure areas, areas with lots of offices, near transportion hubs like the metro, etc.) and the distance of trips between docks. This would further understanding of how people are using the bikes and whether the distance of their trip may cause them to use alternative transportation methods. I would try to use location types to determine the use cases of different routes people take and see how use cases correlates with `weathersit`. My guess is that use case could be correlated with `weathersit` because someone who just wants to enjoy the view will not go out to ride a bike when it's raining, versus someone who needs has somewhere to go and has no other alternative transportation. Instead of `humidity`, I would use use case as an instrumental variable to see the difference in modeling. It would also be interesting to examine them as regular explanatory variables (like `temperature`)"
   ]
  },
  {
   "cell_type": "code",
   "execution_count": null,
   "metadata": {},
   "outputs": [],
   "source": []
  }
 ],
 "metadata": {
  "kernelspec": {
   "display_name": "Python 3 (ipykernel)",
   "language": "python",
   "name": "python3"
  },
  "language_info": {
   "codemirror_mode": {
    "name": "ipython",
    "version": 3
   },
   "file_extension": ".py",
   "mimetype": "text/x-python",
   "name": "python",
   "nbconvert_exporter": "python",
   "pygments_lexer": "ipython3",
   "version": "3.9.7"
  },
  "vscode": {
   "interpreter": {
    "hash": "40d3a090f54c6569ab1632332b64b2c03c39dcf918b08424e98f38b5ae0af88f"
   }
  }
 },
 "nbformat": 4,
 "nbformat_minor": 4
}
